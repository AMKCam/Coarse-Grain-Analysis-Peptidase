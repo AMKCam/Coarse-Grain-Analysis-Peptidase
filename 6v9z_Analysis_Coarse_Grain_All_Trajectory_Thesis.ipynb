{
 "cells": [
  {
   "cell_type": "markdown",
   "metadata": {},
   "source": [
    "# 6v9z All Trajectory Analysis"
   ]
  },
  {
   "cell_type": "markdown",
   "metadata": {},
   "source": [
    "## MD Analysis"
   ]
  },
  {
   "cell_type": "markdown",
   "metadata": {},
   "source": [
    "### Import Modules"
   ]
  },
  {
   "cell_type": "code",
   "execution_count": null,
   "metadata": {},
   "outputs": [],
   "source": [
    "import pandas as pd\n",
    "import matplotlib.pyplot as plt\n",
    "import numpy as np\n",
    "import seaborn as sns\n",
    "import statistics as s\n",
    "import MDAnalysis as mda\n",
    "import random"
   ]
  },
  {
   "cell_type": "markdown",
   "metadata": {},
   "source": [
    "### Helper Modules"
   ]
  },
  {
   "cell_type": "code",
   "execution_count": null,
   "metadata": {},
   "outputs": [],
   "source": [
    "# Converts 3 letter code to 1 letter code\n",
    "convert_to_one_letter_dic = {\"ALA\":\"A\", \"ARG\":\"R\", \"ASN\":\"N\", \"ASP\":\"D\", \"CYS\":\"C\", \"GLU\":\"E\", \"GLN\":\"Q\", \"GLY\":\"G\",\\\n",
    "                            \"HSD\":\"H\", \"HIS\": \"H\", \"HSE\":\"H\", \"ILE\": \"I\", \"LEU\": \"L\", \"LYS\":\"K\", \"MET\":\"M\", \"PHE\":\"F\", \"PRO\":\"P\",\\\n",
    "                            \"SER\":\"S\", \"THR\":\"T\", \"TRP\":\"W\", \"TYR\":\"Y\", \"VAL\":\"V\"}\n",
    "def convert_to_one_letter(string):\n",
    "    amino_acid = str(string[0:3])\n",
    "    return convert_to_one_letter_dic[amino_acid]"
   ]
  },
  {
   "cell_type": "code",
   "execution_count": null,
   "metadata": {},
   "outputs": [],
   "source": [
    "# Permutation test function\n",
    "def permutation(pooled,sizeA,sizeB,iterations):\n",
    "    \"\"\"\n",
    "    Function takes pooled samples and randomly shuffles them according to partition size.\n",
    "    New randommly shuffled partitions are sorted and substracted mean calculated (delta).\n",
    "    Delta appended to a list. \n",
    "    Set x iterations.\n",
    "    \"\"\"\n",
    "    count = 0\n",
    "    mean_list = []\n",
    "    while count < iterations:\n",
    "        np.random.shuffle(pooled)\n",
    "        new_A = pooled[:sizeA]\n",
    "        new_B = pooled[-sizeB:]\n",
    "        delta = s.mean(new_A) - s.mean(new_B)\n",
    "        mean_list.append(delta)\n",
    "        count += 1\n",
    "    return mean_list"
   ]
  },
  {
   "cell_type": "code",
   "execution_count": null,
   "metadata": {},
   "outputs": [],
   "source": [
    "def extract_chain_vals_temp(data):\n",
    "    \"\"\"\n",
    "    Function takes a dataframe and returns substrate or no substrate Lipid_Count values separated by temperature.\n",
    "    \"\"\"\n",
    "    sub_vals_30_deg = []\n",
    "    sub_vals_37_deg = []\n",
    "    no_sub_vals_30_deg = []\n",
    "    no_sub_vals_37_deg = []\n",
    "    for row in data.itertuples():\n",
    "        if row._2 == 'Yes':\n",
    "            if row._3 == 303.15:\n",
    "                sub_vals_30_deg.append(row.Lipid_Count)\n",
    "            elif row._3 == 310.15:\n",
    "                sub_vals_37_deg.append(row.Lipid_Count)\n",
    "        elif row._2 == 'No':\n",
    "            if row._3 == 303.15:\n",
    "                no_sub_vals_30_deg.append(row.Lipid_Count)\n",
    "            elif row._3 == 310.15:\n",
    "                no_sub_vals_37_deg.append(row.Lipid_Count)\n",
    "                \n",
    "    return sub_vals_30_deg, sub_vals_37_deg, no_sub_vals_30_deg, no_sub_vals_37_deg"
   ]
  },
  {
   "cell_type": "code",
   "execution_count": null,
   "metadata": {},
   "outputs": [],
   "source": [
    "def extract_chain_vals(data):\n",
    "    \"\"\"\n",
    "    Function takes a dataframe and returns substrate or no substrate Lipid_Count values.\n",
    "    \"\"\"\n",
    "    sub_vals = []\n",
    "    no_sub_vals = []\n",
    "    for row in data.itertuples():\n",
    "        if row._2 == 'Yes':\n",
    "            sub_vals.append(row.Lipid_Count)\n",
    "        elif row._2 == 'No':\n",
    "            no_sub_vals.append(row.Lipid_Count)\n",
    "                \n",
    "    return sub_vals, no_sub_vals"
   ]
  },
  {
   "cell_type": "code",
   "execution_count": null,
   "metadata": {},
   "outputs": [],
   "source": [
    "def chain_dic_frames(data):\n",
    "    \"\"\"\n",
    "    Function takes a dataframe and returns substrate or no substrate lipid interaction values based on chainID.\n",
    "    \"\"\"\n",
    "    sub_dic = dict()\n",
    "    nosub_dic = dict()\n",
    "    for row in data.itertuples():\n",
    "        if row._1 == \"Yes\":\n",
    "            sub_dic[(row.Chain,row.Joint_Position)] = row.Mean_Lipid_Count\n",
    "        elif row._1 == \"No\":\n",
    "            nosub_dic[(row.Chain,row.Joint_Position)] = row.Mean_Lipid_Count\n",
    "                \n",
    "    return sub_dic, nosub_dic"
   ]
  },
  {
   "cell_type": "code",
   "execution_count": null,
   "metadata": {},
   "outputs": [],
   "source": [
    "def chain_pair_vals(chain_A,chain_B):\n",
    "    \"\"\"\n",
    "    Function takes dictionary of chain values for chain A and B and returns the difference\n",
    "    when the amino acids match. Else searches for instances where amino acid is unique to chain A or B.\n",
    "    \"\"\"\n",
    "    A_B_diff = dict()\n",
    "    unique_A = dict()\n",
    "    unique_B = dict()\n",
    "    for k1,v1 in chain_A.items():\n",
    "        for k2,v2 in chain_B.items():\n",
    "            if k1 == k2:\n",
    "                diff = 0\n",
    "                diff = v1 - v2\n",
    "                A_B_diff[k1] = diff\n",
    "            elif k1 not in chain_B.keys():\n",
    "                unique_A[k1] = v1\n",
    "    for k3,v3 in chain_B.items():\n",
    "        if k3 not in chain_A.keys():\n",
    "            unique_B[k3] = v3\n",
    "    return A_B_diff, unique_A, unique_B"
   ]
  },
  {
   "cell_type": "code",
   "execution_count": null,
   "metadata": {},
   "outputs": [],
   "source": [
    "def bootstrap_lipid(pooled,n_samples,iterations):\n",
    "    random.seed(42) # set seed\n",
    "    count = 0\n",
    "    mean_diff_list = [] #store median difference values for plotting\n",
    "    while count < iterations:\n",
    "        # randomly select samples from the list without replacement\n",
    "        # calculate mean difference - smoother distn than calc median diff\n",
    "        np.random.shuffle(pooled) # first shuffle the data\n",
    "        sample_1 = random.sample(pooled, n_samples)\n",
    "        sample_2 = random.sample(pooled, n_samples)\n",
    "        mean_diff = np.mean(sample_1) - np.mean(sample_2)\n",
    "        mean_diff_list.append(mean_diff)\n",
    "        count += 1\n",
    "        \n",
    "    return mean_diff_list"
   ]
  },
  {
   "cell_type": "code",
   "execution_count": null,
   "metadata": {},
   "outputs": [],
   "source": [
    "def p_val(difference_dic,iterations,permute_results):\n",
    "    results_array = np.array(permute_results)\n",
    "    p_val_dict = dict()\n",
    "    for v1, v2 in difference_dic.items():\n",
    "        if v2 < 0:\n",
    "            diffCount = len(np.where(np.sort(results_array) <= v2)[0])\n",
    "            p_val = float(diffCount)/float(iterations)\n",
    "            p_val_dict[v1] = p_val\n",
    "        else:\n",
    "            diffCount = len(np.where(np.sort(results_array) >= v2)[0])\n",
    "            p_val = float(diffCount)/float(iterations)\n",
    "            p_val_dict[v1] = p_val\n",
    "    return p_val_dict"
   ]
  },
  {
   "cell_type": "code",
   "execution_count": null,
   "metadata": {},
   "outputs": [],
   "source": [
    "def sig_p_val(p_val_dic,sig_level):\n",
    "    num_tests = int(len(p_val_dic))\n",
    "    bonferroni = sig_level/num_tests\n",
    "    sig_vals = dict()\n",
    "    for key,val in p_val_dic.items():\n",
    "        if val <= bonferroni:\n",
    "            sig_vals[key] = val\n",
    "    return sig_vals"
   ]
  },
  {
   "cell_type": "code",
   "execution_count": null,
   "metadata": {},
   "outputs": [],
   "source": [
    "def extract_lipid_vals_cdl2(data):\n",
    "    \"\"\"\n",
    "    Function takes a dataframe and returns values for CDL2 for either substrate or no substrate.\n",
    "    \"\"\"\n",
    "    cdl2_vals_sub = []\n",
    "    cdl2_vals_no_sub = []\n",
    "    for row in data.itertuples():\n",
    "        if row._2 == 'Yes':\n",
    "            cdl2_vals_sub.append(row.CDL2)\n",
    "        elif row._2 == 'No':\n",
    "            cdl2_vals_no_sub.append(row.CDL2)\n",
    "    return cdl2_vals_sub, cdl2_vals_no_sub"
   ]
  },
  {
   "cell_type": "code",
   "execution_count": null,
   "metadata": {},
   "outputs": [],
   "source": [
    "def extract_lipid_vals_temp_cdl2(data):\n",
    "    \"\"\"\n",
    "    Function takes a dataframe and returns values for CDL2 for either substrate or no substrate based on temp.\n",
    "    \"\"\"\n",
    "    cdl2_vals_sub_30_deg = []\n",
    "    cdl2_vals_sub_37_deg = []\n",
    "    cdl2_vals_no_sub_30_deg = []\n",
    "    cdl2_vals_no_sub_37_deg = []\n",
    "    for row in data.itertuples():\n",
    "        if row._2 == 'Yes':\n",
    "            if row._3 == 303.15:\n",
    "                cdl2_vals_sub_30_deg.append(row.CDL2)\n",
    "            elif row._3 == 310.15:\n",
    "                cdl2_vals_sub_37_deg.append(row.CDL2)\n",
    "        elif row._2 == 'No':\n",
    "            if row._3 == 303.15:\n",
    "                cdl2_vals_no_sub_30_deg.append(row.CDL2)\n",
    "            elif row._3 == 310.15:\n",
    "                cdl2_vals_no_sub_37_deg.append(row.CDL2)\n",
    "                \n",
    "    return cdl2_vals_sub_30_deg, cdl2_vals_sub_37_deg, cdl2_vals_no_sub_30_deg, cdl2_vals_no_sub_37_deg"
   ]
  },
  {
   "cell_type": "code",
   "execution_count": null,
   "metadata": {},
   "outputs": [],
   "source": [
    "def lipid_dic_cdl2(data):\n",
    "    \"\"\"\n",
    "    Function takes a dataframe and returns cdl2 interaction values as a dictionary\n",
    "    by amino acid position and chain ID\n",
    "    \"\"\"\n",
    "    cdl2_sub_dic = dict()\n",
    "    cdl2_no_sub_dic = dict()\n",
    "    for row in data.itertuples():\n",
    "        if row._1 == 'Yes':\n",
    "            cdl2_sub_dic[(row.Chain,row.Joint_Position)] = row.Mean_CDL2_Count\n",
    "        elif row._1 == 'No':\n",
    "            cdl2_no_sub_dic[(row.Chain,row.Joint_Position)] = row.Mean_CDL2_Count\n",
    "            \n",
    "    return cdl2_sub_dic, cdl2_no_sub_dic"
   ]
  },
  {
   "cell_type": "code",
   "execution_count": null,
   "metadata": {},
   "outputs": [],
   "source": [
    "def extract_lipid_vals_pope_popg(data):\n",
    "    \"\"\"\n",
    "    Function takes a dataframe and returns values for POPE/POPG for either substrate or no substrate.\n",
    "    \"\"\"\n",
    "    pope_popg_vals_sub = []\n",
    "    pope_popg_vals_no_sub = []\n",
    "    for row in data.itertuples():\n",
    "        if row._2 == 'Yes':\n",
    "            pope_popg_vals_sub.append(row.POPE + row.POPG)\n",
    "        elif row._2 == 'No':\n",
    "            pope_popg_vals_no_sub.append(row.POPE + row.POPG)\n",
    "    return pope_popg_vals_sub, pope_popg_vals_no_sub"
   ]
  },
  {
   "cell_type": "code",
   "execution_count": null,
   "metadata": {},
   "outputs": [],
   "source": [
    "def extract_lipid_vals_temp_pope_popg(data):\n",
    "    \"\"\"\n",
    "    Function takes a dataframe and returns values for POPE/POPG for either substrate or no substrate based on temp.\n",
    "    \"\"\"\n",
    "    pope_popg_vals_sub_30_deg = []\n",
    "    pope_popg_vals_sub_37_deg = []\n",
    "    pope_popg_vals_no_sub_30_deg = []\n",
    "    pope_popg_vals_no_sub_37_deg = []\n",
    "    for row in data.itertuples():\n",
    "        if row._2 == 'Yes':\n",
    "            if row._3 == 303.15:\n",
    "                pope_popg_vals_sub_30_deg.append(row.POPE + row.POPG)\n",
    "            elif row._3 == 310.15:\n",
    "                pope_popg_vals_sub_37_deg.append(row.POPE + row.POPG)\n",
    "        elif row._2 == 'No':\n",
    "            if row._3 == 303.15:\n",
    "                pope_popg_vals_no_sub_30_deg.append(row.POPE + row.POPG)\n",
    "            elif row._3 == 310.15:\n",
    "                pope_popg_vals_no_sub_37_deg.append(row.POPE + row.POPG)\n",
    "                \n",
    "    return pope_popg_vals_sub_30_deg, pope_popg_vals_sub_37_deg, pope_popg_vals_no_sub_30_deg, pope_popg_vals_no_sub_37_deg"
   ]
  },
  {
   "cell_type": "code",
   "execution_count": null,
   "metadata": {},
   "outputs": [],
   "source": [
    "def lipid_dic_pope_popg(data):\n",
    "    \"\"\"\n",
    "    Function takes a dataframe and returns cdl2 interaction values as a dictionary\n",
    "    by amino acid position and chain ID\n",
    "    \"\"\"\n",
    "    pope_popg_sub_dic = dict()\n",
    "    pope_popg_no_sub_dic = dict()\n",
    "    for row in data.itertuples():\n",
    "        if row._1 == 'Yes':\n",
    "            pope_popg_sub_dic[(row.Chain,row.Joint_Position)] = row.Mean_POPE_POPG_Count\n",
    "        elif row._1 == 'No':\n",
    "            pope_popg_no_sub_dic[(row.Chain,row.Joint_Position)] = row.Mean_POPE_POPG_Count\n",
    "            \n",
    "    return pope_popg_sub_dic, pope_popg_no_sub_dic"
   ]
  },
  {
   "cell_type": "code",
   "execution_count": null,
   "metadata": {},
   "outputs": [],
   "source": [
    "def extract_sub_vals_clust(data):\n",
    "    \"\"\"\n",
    "    Function takes a dataframe and returns substrate or no substrate average median count values.\n",
    "    \"\"\"\n",
    "    sub_vals = []\n",
    "    no_sub_vals = []\n",
    "    for row in data.itertuples():\n",
    "        if row.Substrate == 'yes':\n",
    "            sub_vals.append(row.Scaled_Median_Count)\n",
    "        elif row.Substrate  == 'no':\n",
    "            no_sub_vals.append(row.Scaled_Median_Count)\n",
    "                \n",
    "    return sub_vals, no_sub_vals"
   ]
  },
  {
   "cell_type": "markdown",
   "metadata": {},
   "source": [
    "### Plots for thesis - set colours"
   ]
  },
  {
   "cell_type": "code",
   "execution_count": null,
   "metadata": {},
   "outputs": [],
   "source": [
    "# Select palette\n",
    "palette = sns.color_palette(\"deep\")"
   ]
  },
  {
   "cell_type": "code",
   "execution_count": null,
   "metadata": {},
   "outputs": [],
   "source": [
    "blue = sns.color_palette(\"deep\")[0]\n",
    "orange = sns.color_palette(\"deep\")[1]\n",
    "green = sns.color_palette(\"deep\")[2]\n",
    "red = sns.color_palette(\"deep\")[3]\n",
    "purple = sns.color_palette(\"deep\")[4]\n",
    "brown = sns.color_palette(\"deep\")[5]\n",
    "pink = sns.color_palette(\"deep\")[6]\n",
    "grey = sns.color_palette(\"deep\")[7]\n",
    "gold = sns.color_palette(\"deep\")[8]\n",
    "turqoise = sns.color_palette(\"deep\")[9]"
   ]
  },
  {
   "cell_type": "markdown",
   "metadata": {},
   "source": [
    "### Define Universes"
   ]
  },
  {
   "cell_type": "code",
   "execution_count": null,
   "metadata": {},
   "outputs": [],
   "source": [
    "# Read trajectory - ignore warning as this is coarse grain\n",
    "u1 = mda.Universe(\"6v9z_sub_30_deg_traj_1_chainAB.pdb\",\"6v9z_sub_30_deg_skip1000_chainAB_traj_1.xtc\")\n",
    "u2 = mda.Universe(\"6v9z_sub_30_deg_traj_2_chainAB.pdb\",\"6v9z_sub_30_deg_skip1000_chainAB_traj_2.xtc\")\n",
    "u3 = mda.Universe(\"6v9z_sub_37_deg_traj_1_chainAB.pdb\",\"6v9z_sub_37_deg_skip1000_chainAB_traj_1.xtc\")\n",
    "u4 = mda.Universe(\"6v9z_sub_37_deg_traj_2_chainAB.pdb\",\"6v9z_sub_37_deg_skip1000_chainAB_traj_2.xtc\")\n",
    "u5 = mda.Universe(\"6v9z_nosub_30_deg_traj_1_chainAB.pdb\",\"6v9z_nosub_30_deg_skip1000_chainAB_traj_1.xtc\")\n",
    "u6 = mda.Universe(\"6v9z_nosub_30_deg_traj_2_chainAB.pdb\",\"6v9z_nosub_30_deg_skip1000_chainAB_traj_2.xtc\")\n",
    "u7 = mda.Universe(\"6v9z_nosub_37_deg_traj_1_chainAB.pdb\",\"6v9z_nosub_37_deg_skip1000_chainAB_traj_1.xtc\")\n",
    "u8 = mda.Universe(\"6v9z_nosub_37_deg_traj_2_chainAB.pdb\",\"6v9z_nosub_37_deg_skip1000_chainAB_traj_2.xtc\")"
   ]
  },
  {
   "cell_type": "code",
   "execution_count": null,
   "metadata": {},
   "outputs": [],
   "source": [
    "labels = [\"u1\",\"u2\",\"u3\",\"u4\",\"u5\",\"u6\",\"u7\",\"u8\"]"
   ]
  },
  {
   "cell_type": "code",
   "execution_count": null,
   "metadata": {},
   "outputs": [],
   "source": [
    "# Check length of the trajectories\n",
    "print(len(u1.trajectory), len(u2.trajectory), len(u3.trajectory), len(u4.trajectory), len(u5.trajectory), len(u6.trajectory), len(u7.trajectory), len(u8.trajectory))"
   ]
  },
  {
   "cell_type": "markdown",
   "metadata": {},
   "source": [
    "### Ensemble Cluster Analysis"
   ]
  },
  {
   "cell_type": "markdown",
   "metadata": {},
   "source": [
    "This analysis only works with preselected atoms in trajectories. Only reduce number of frames to speed up calculation."
   ]
  },
  {
   "cell_type": "code",
   "execution_count": null,
   "metadata": {},
   "outputs": [],
   "source": [
    "# import modules\n",
    "from MDAnalysis.analysis import encore\n",
    "from MDAnalysis.analysis.encore.clustering import ClusteringMethod as clm"
   ]
  },
  {
   "cell_type": "code",
   "execution_count": null,
   "metadata": {},
   "outputs": [],
   "source": [
    "# Cluster\n",
    "ces0, details0 = encore.ces(ensembles=[u1,u2,u3,u4,u5,u6,u7,u8], select=\"type B\")"
   ]
  },
  {
   "cell_type": "code",
   "execution_count": null,
   "metadata": {},
   "outputs": [],
   "source": [
    "# Print cluster info\n",
    "cluster_collection = details0['clustering'][0]\n",
    "print(type(cluster_collection))\n",
    "print('We have found {} clusters'.format(len(cluster_collection)))"
   ]
  },
  {
   "cell_type": "code",
   "execution_count": null,
   "metadata": {},
   "outputs": [],
   "source": [
    "# k-means clustering\n",
    "km1 = clm.KMeans(16,  # no. clusters\n",
    "                 init = 'k-means++',  # default\n",
    "                 algorithm=\"auto\")    # default\n",
    "\n",
    "km2 = clm.KMeans(8,  # no. clusters\n",
    "                 init = 'k-means++',  # default\n",
    "                 algorithm=\"auto\")    # default\n",
    "\n",
    "km3 = clm.KMeans(4,  # no. clusters\n",
    "                 init = 'k-means++',  # default\n",
    "                 algorithm=\"auto\")    # default\n",
    "\n",
    "km4 = clm.KMeans(2,  # no. clusters\n",
    "                 init = 'k-means++',  # default\n",
    "                 algorithm=\"auto\")    # default\n",
    "\n"
   ]
  },
  {
   "cell_type": "code",
   "execution_count": null,
   "metadata": {},
   "outputs": [],
   "source": [
    "ces2, details2 = encore.ces([u1,u2,u3,u4,u5, u6, u7, u8],\n",
    "                         select='type B',\n",
    "                         clustering_method=[km1, km2, km3, km4],\n",
    "                         ncores=4)\n",
    "print(len(ces2), len(details2['clustering']))"
   ]
  },
  {
   "cell_type": "code",
   "execution_count": null,
   "metadata": {},
   "outputs": [],
   "source": [
    "# Plot clustering\n",
    "titles = ['Kmeans 16 clusters', 'Kmeans 8 clusters', 'Kmeans 4 clusters', 'Kmeans 2 clusters']\n",
    "fig2, axes = plt.subplots(1, 4, sharey=True, figsize=(15, 4))\n",
    "for i, (data, title) in enumerate(zip(ces2, titles)):\n",
    "    imi = axes[i].imshow(data, vmax=np.log(2), vmin=0)\n",
    "    axes[i].set_xticks(np.arange(8))\n",
    "    axes[i].set_xticklabels(labels)\n",
    "    axes[i].set_title(title)\n",
    "plt.yticks(np.arange(8), labels)\n",
    "cbar2 = fig2.colorbar(imi, ax=axes.ravel().tolist())\n",
    "cbar2.set_label('Jensen-Shannon divergence')\n",
    "plt.savefig(\"Ensemble Cluster K means All Trajectories 4.png\", dpi = 300)"
   ]
  },
  {
   "cell_type": "code",
   "execution_count": null,
   "metadata": {},
   "outputs": [],
   "source": [
    "#estimate errors\n",
    "avgs, stds = encore.ces([u1, u2, u3, u4, u5, u6, u7, u8],\n",
    "                         select='type B',\n",
    "                         clustering_method=km3,\n",
    "                         estimate_error=True,\n",
    "                         ncores=4)"
   ]
  },
  {
   "cell_type": "code",
   "execution_count": null,
   "metadata": {},
   "outputs": [],
   "source": [
    "avgs"
   ]
  },
  {
   "cell_type": "code",
   "execution_count": null,
   "metadata": {},
   "outputs": [],
   "source": [
    "stds"
   ]
  },
  {
   "cell_type": "markdown",
   "metadata": {},
   "source": [
    "## Protein Lipid Contacts"
   ]
  },
  {
   "cell_type": "markdown",
   "metadata": {},
   "source": [
    "##### Raw Data "
   ]
  },
  {
   "cell_type": "code",
   "execution_count": null,
   "metadata": {},
   "outputs": [],
   "source": [
    "# Read in csv's\n",
    "df_1 = pd.read_csv(\"data/6v9z_sub_30_deg_traj_1_protein_lipid_contact.csv\")\n",
    "df_2 = pd.read_csv(\"data/6v9z_sub_30_deg_traj_2_protein_lipid_contact.csv\")\n",
    "df_3 = pd.read_csv(\"data/6v9z_sub_37_deg_traj_1_protein_lipid_contact.csv\")\n",
    "df_4 = pd.read_csv(\"data/6v9z_sub_37_deg_traj_2_protein_lipid_contact.csv\")\n",
    "df_5 = pd.read_csv(\"data/6v9z_nosub_30_deg_traj_1_protein_lipid_contact.csv\")\n",
    "df_6 = pd.read_csv(\"data/6v9z_nosub_30_deg_traj_2_protein_lipid_contact.csv\")\n",
    "df_7 = pd.read_csv(\"data/6v9z_nosub_37_deg_traj_1_protein_lipid_contact.csv\")\n",
    "df_8 = pd.read_csv(\"data/6v9z_nosub_37_deg_traj_2_protein_lipid_contact.csv\")"
   ]
  },
  {
   "cell_type": "markdown",
   "metadata": {},
   "source": [
    "#### Combine Data"
   ]
  },
  {
   "cell_type": "code",
   "execution_count": null,
   "metadata": {},
   "outputs": [],
   "source": [
    "frames = [df_1, df_2, df_3, df_4, df_5, df_6, df_7, df_8]\n",
    "combined_df = pd.concat(frames, ignore_index=True)"
   ]
  },
  {
   "cell_type": "code",
   "execution_count": null,
   "metadata": {},
   "outputs": [],
   "source": [
    "#Add one letter code back in\n",
    "combined_df[\"Protein_Code\"] = combined_df[\"Protein_Type\"].apply(convert_to_one_letter)"
   ]
  },
  {
   "cell_type": "code",
   "execution_count": null,
   "metadata": {},
   "outputs": [],
   "source": [
    "#Get actual resids to match structure\n",
    "combined_df[\"Actual_Protein_ResID\"] = combined_df[\"Protein_ResID\"] + 7"
   ]
  },
  {
   "cell_type": "code",
   "execution_count": null,
   "metadata": {},
   "outputs": [],
   "source": [
    "combined_df[\"Joint_Position\"] = combined_df[\"Protein_Code\"].astype(str) + combined_df[\"Actual_Protein_ResID\"].astype(str)"
   ]
  },
  {
   "cell_type": "code",
   "execution_count": null,
   "metadata": {},
   "outputs": [],
   "source": [
    "# First group by ID to sum appropriate lipid values\n",
    "group_contact = combined_df.groupby([\"ID\",\"Substrate?\",\"Temperature(K)\",\"Chain\",\"Actual_Protein_ResID\",\"Joint_Position\", \"Lipid_Type\"])[\"Fraction_Frames\"].sum().unstack()"
   ]
  },
  {
   "cell_type": "code",
   "execution_count": null,
   "metadata": {},
   "outputs": [],
   "source": [
    "#Reset index to remove multi-indexing\n",
    "group_contact.reset_index(inplace = True)"
   ]
  },
  {
   "cell_type": "code",
   "execution_count": null,
   "metadata": {},
   "outputs": [],
   "source": [
    "#Fill in NaNs with 0s\n",
    "group_contact[\"CDL2\"].fillna(value = 0, inplace = True)\n",
    "group_contact[\"POPE\"].fillna(value = 0, inplace = True)\n",
    "group_contact[\"POPG\"].fillna(value = 0, inplace = True)"
   ]
  },
  {
   "cell_type": "code",
   "execution_count": null,
   "metadata": {},
   "outputs": [],
   "source": [
    "#sort values by protein position\n",
    "group_contact.sort_values(\"Actual_Protein_ResID\", axis = 0, ascending = True, inplace = True) #sort values by protein position"
   ]
  },
  {
   "cell_type": "code",
   "execution_count": null,
   "metadata": {},
   "outputs": [],
   "source": [
    "# Add in sub columns for plotting\n",
    "group_contact[\"Lipid_Count\"] = group_contact[\"CDL2\"] + group_contact[\"POPE\"] + group_contact[\"POPG\"]\n",
    "group_contact[\"POPE_POPG\"] = group_contact[\"POPE\"] + group_contact[\"POPG\"]\n",
    "group_contact[\"Substrate?_Temperature\"] = group_contact[\"Substrate?\"].astype(str) + \"_\" + group_contact[\"Temperature(K)\"].astype(str)\n",
    "group_contact[\"Substrate?_Temperature_Chain\"] = group_contact[\"Substrate?\"].astype(str) + \"_\" + group_contact[\"Temperature(K)\"].astype(str) + \"_\" + group_contact[\"Chain\"].astype(str)\n",
    "group_contact[\"Substrate?_Chain\"] = group_contact[\"Substrate?\"].astype(str) + \"_\" + group_contact[\"Chain\"].astype(str)"
   ]
  },
  {
   "cell_type": "code",
   "execution_count": null,
   "metadata": {},
   "outputs": [],
   "source": [
    "# Aggregate data - only separate by presence of substrate\n",
    "group_contact_cdl2_lipid = group_contact.groupby([\"ID\",\"Temperature(K)\",\"Substrate?\",\"Chain\",\"Actual_Protein_ResID\",\"Joint_Position\"])[\"CDL2\"].mean().unstack()\n",
    "group_contact_pope_popg_lipid = group_contact.groupby([\"ID\",\"Temperature(K)\",\"Substrate?\",\"Chain\",\"Actual_Protein_ResID\",\"Joint_Position\"])[\"POPE_POPG\"].mean().unstack()"
   ]
  },
  {
   "cell_type": "code",
   "execution_count": null,
   "metadata": {},
   "outputs": [],
   "source": [
    " #Reset index to remove multi-indexing\n",
    "group_contact_cdl2_lipid.reset_index(inplace = True)\n",
    "group_contact_pope_popg_lipid.reset_index(inplace = True)"
   ]
  },
  {
   "cell_type": "code",
   "execution_count": null,
   "metadata": {},
   "outputs": [],
   "source": [
    "# remove extra headers - cardiolipin\n",
    "head_list_cdl2_lipid = group_contact_cdl2_lipid.columns.tolist()\n",
    "head_list_cdl2_lipid.remove('ID')\n",
    "head_list_cdl2_lipid.remove('Temperature(K)')\n",
    "head_list_cdl2_lipid.remove('Substrate?')\n",
    "head_list_cdl2_lipid.remove('Chain')\n",
    "head_list_cdl2_lipid.remove('Actual_Protein_ResID')"
   ]
  },
  {
   "cell_type": "code",
   "execution_count": null,
   "metadata": {},
   "outputs": [],
   "source": [
    "# remove extra headers - pope/popg\n",
    "head_list_pope_popg_lipid = group_contact_pope_popg_lipid.columns.tolist()\n",
    "head_list_pope_popg_lipid.remove('ID')\n",
    "head_list_pope_popg_lipid.remove('Temperature(K)')\n",
    "head_list_pope_popg_lipid.remove('Substrate?')\n",
    "head_list_pope_popg_lipid.remove('Chain')\n",
    "head_list_pope_popg_lipid.remove('Actual_Protein_ResID')"
   ]
  },
  {
   "cell_type": "code",
   "execution_count": null,
   "metadata": {},
   "outputs": [],
   "source": [
    "# Apply melt\n",
    "melt_group_contact_cdl2 = group_contact_cdl2_lipid.melt(id_vars=['ID','Temperature(K)','Substrate?','Chain','Actual_Protein_ResID'],value_vars=head_list_cdl2_lipid,value_name=\"Mean_CDL2_Count\")\n",
    "melt_group_contact_pope_popg = group_contact_pope_popg_lipid.melt(id_vars=['ID','Temperature(K)','Substrate?','Chain','Actual_Protein_ResID'],value_vars=head_list_pope_popg_lipid,value_name=\"Mean_POPE_POPG_Count\")"
   ]
  },
  {
   "cell_type": "code",
   "execution_count": null,
   "metadata": {},
   "outputs": [],
   "source": [
    "# Remove nan values\n",
    "melt_group_contact_cdl2.dropna(inplace = True)\n",
    "melt_group_contact_pope_popg.dropna(inplace = True)"
   ]
  },
  {
   "cell_type": "code",
   "execution_count": null,
   "metadata": {},
   "outputs": [],
   "source": [
    "# Sort for plotting - by protein residue number\n",
    "melt_group_contact_cdl2.sort_values([\"Actual_Protein_ResID\",\"Chain\"], axis = 0, ascending = True, inplace = True) #sort values by protein position\n",
    "melt_group_contact_pope_popg.sort_values([\"Actual_Protein_ResID\",\"Chain\"], axis = 0, ascending = True, inplace = True) #sort values by protein position"
   ]
  },
  {
   "cell_type": "code",
   "execution_count": null,
   "metadata": {},
   "outputs": [],
   "source": [
    "# Separate by substrate and chain ID\n",
    "melt_group_contact_cdl2[\"Substrate?_Chain\"] = melt_group_contact_cdl2[\"Substrate?\"].astype(str) + \"_\" +  melt_group_contact_cdl2[\"Chain\"].astype(str)\n",
    "melt_group_contact_pope_popg[\"Substrate?_Chain\"] = melt_group_contact_pope_popg[\"Substrate?\"].astype(str) + \"_\" +  melt_group_contact_pope_popg[\"Chain\"].astype(str)"
   ]
  },
  {
   "cell_type": "code",
   "execution_count": null,
   "metadata": {},
   "outputs": [],
   "source": [
    "# Remove small values\n",
    "melt_group_contact_cdl2_remove = melt_group_contact_cdl2[melt_group_contact_cdl2[\"Mean_CDL2_Count\"]>0.01]\n",
    "melt_group_contact_pope_popg_remove = melt_group_contact_pope_popg[melt_group_contact_pope_popg[\"Mean_POPE_POPG_Count\"]>0.01]"
   ]
  },
  {
   "cell_type": "markdown",
   "metadata": {},
   "source": [
    "Plotting when small values are removed will result in an incorrect plot. We will first define the positions which contain significantly large values, and remove others from the original \"melt_group_contact_{lipid}\" dataframe."
   ]
  },
  {
   "cell_type": "code",
   "execution_count": null,
   "metadata": {},
   "outputs": [],
   "source": [
    "# Define dictionary to store positions with significant cdl2 contacts\n",
    "x_axis_headers_cdl2 = []\n",
    "for row in melt_group_contact_cdl2_remove.itertuples():\n",
    "    if row.Joint_Position not in x_axis_headers_cdl2:\n",
    "        x_axis_headers_cdl2.append(row.Joint_Position)"
   ]
  },
  {
   "cell_type": "code",
   "execution_count": null,
   "metadata": {},
   "outputs": [],
   "source": [
    "# Define dictionary to store positions with significant pope/popg contacts\n",
    "x_axis_headers_popeg = []\n",
    "for row in melt_group_contact_pope_popg_remove.itertuples():\n",
    "    if row.Joint_Position not in x_axis_headers_popeg:\n",
    "        x_axis_headers_popeg.append(row.Joint_Position)"
   ]
  },
  {
   "cell_type": "code",
   "execution_count": null,
   "metadata": {},
   "outputs": [],
   "source": [
    "# Use these to make a new dataframe - cdl2\n",
    "cdl2_ID_list = []\n",
    "cdl2_temp_list = []\n",
    "cdl2_sub_list = []\n",
    "cdl2_chain_list = []\n",
    "cdl2_resid_list = []\n",
    "cdl2_joint_position_list = []\n",
    "cdl2_list = []\n",
    "cdl2_label_list = []"
   ]
  },
  {
   "cell_type": "code",
   "execution_count": null,
   "metadata": {},
   "outputs": [],
   "source": [
    "# Use these to make a new dataframe - pope/popg\n",
    "pope_popg_ID_list = []\n",
    "pope_popg_temp_list = []\n",
    "pope_popg_sub_list = []\n",
    "pope_popg_chain_list = []\n",
    "pope_popg_resid_list = []\n",
    "pope_popg_joint_position_list = []\n",
    "popeg_list = []\n",
    "pope_popg_label_list = []"
   ]
  },
  {
   "cell_type": "code",
   "execution_count": null,
   "metadata": {},
   "outputs": [],
   "source": [
    "# Loop over original dataframe and extract data from positions with significant cdl2 contacts\n",
    "for row in melt_group_contact_cdl2.itertuples():\n",
    "    if row.Joint_Position in x_axis_headers_cdl2:\n",
    "        cdl2_ID_list.append(row.ID)\n",
    "        cdl2_temp_list.append(row._2)\n",
    "        cdl2_sub_list.append(row._3)\n",
    "        cdl2_chain_list.append(row.Chain)\n",
    "        cdl2_resid_list.append(row.Actual_Protein_ResID)\n",
    "        cdl2_joint_position_list.append(row.Joint_Position)\n",
    "        cdl2_list.append(row.Mean_CDL2_Count)\n",
    "        cdl2_label_list.append(row._8)"
   ]
  },
  {
   "cell_type": "code",
   "execution_count": null,
   "metadata": {},
   "outputs": [],
   "source": [
    "# Loop over original dataframe and extract data from positions with significant pope/popg contacts\n",
    "for row in melt_group_contact_pope_popg.itertuples():\n",
    "    if row.Joint_Position in x_axis_headers_popeg:\n",
    "        pope_popg_ID_list.append(row.ID)\n",
    "        pope_popg_temp_list.append(row._2)\n",
    "        pope_popg_sub_list.append(row._3)\n",
    "        pope_popg_chain_list.append(row.Chain)\n",
    "        pope_popg_resid_list.append(row.Actual_Protein_ResID)\n",
    "        pope_popg_joint_position_list.append(row.Joint_Position)\n",
    "        popeg_list.append(row.Mean_POPE_POPG_Count)\n",
    "        pope_popg_label_list.append(row._8)"
   ]
  },
  {
   "cell_type": "code",
   "execution_count": null,
   "metadata": {},
   "outputs": [],
   "source": [
    "# Make a dictionary of the lists with column headings - cdl2\n",
    "data_cdl2 = {'ID':cdl2_ID_list, 'Temperature(K)':cdl2_temp_list, 'Substrate?':cdl2_sub_list,'Chain':cdl2_chain_list,\n",
    "        'Actual_Protein_ResID':cdl2_resid_list,'Joint_Position':cdl2_joint_position_list,\n",
    "        'Mean_CDL2_Count':cdl2_list, 'Substrate?_Chain':cdl2_label_list}"
   ]
  },
  {
   "cell_type": "code",
   "execution_count": null,
   "metadata": {},
   "outputs": [],
   "source": [
    "# Make a dictionary of the lists with column headings - pope/popg\n",
    "data_pope_popg = {'ID':pope_popg_ID_list, 'Temperature(K)':pope_popg_temp_list, 'Substrate?':pope_popg_sub_list,\n",
    "         'Chain':pope_popg_chain_list, 'Actual_Protein_ResID':pope_popg_resid_list,\n",
    "         'Joint_Position':pope_popg_joint_position_list, 'Mean_POPE_POPG_Count':popeg_list, \n",
    "         'Substrate?_Chain':pope_popg_label_list}"
   ]
  },
  {
   "cell_type": "code",
   "execution_count": null,
   "metadata": {},
   "outputs": [],
   "source": [
    "# Use dictionaries to make new dataframes\n",
    "cdl2_new = pd.DataFrame.from_dict(data_cdl2)\n",
    "popeg_new = pd.DataFrame.from_dict(data_pope_popg)"
   ]
  },
  {
   "cell_type": "markdown",
   "metadata": {},
   "source": [
    "##### Plots for thesis"
   ]
  },
  {
   "cell_type": "code",
   "execution_count": null,
   "metadata": {},
   "outputs": [],
   "source": [
    "# Palette dictionary\n",
    "palette_dic = {\"Yes_A\":blue, \"No_A\":orange,\"Yes_B\":green,\"No_B\":red}"
   ]
  },
  {
   "cell_type": "code",
   "execution_count": null,
   "metadata": {},
   "outputs": [],
   "source": [
    "# Plot using seaborn - cdl2\n",
    "fig_dims = (40, 10)\n",
    "fig, ax = plt.subplots(figsize=fig_dims)\n",
    "melt_group_contact_cdl2_fig = sns.barplot(x = \"Joint_Position\", y = \"Mean_CDL2_Count\", \n",
    "                                          hue = \"Substrate?_Chain\", \n",
    "                                          hue_order=[\"Yes_A\",\"No_A\",\"Yes_B\",\"No_B\"], \n",
    "                                          data = cdl2_new, palette=palette_dic, \n",
    "                                          estimator=np.mean,ci=90, ax=ax).get_figure()\n",
    "plt.xlabel(\"ResID\")\n",
    "plt.ylabel(\"CDL2 Fraction Frames\")\n",
    "plt.legend(loc='upper left');\n",
    "melt_group_contact_cdl2_fig.savefig(\"Mean CDL2 Count by Substrate and Chain Relabel Remove correct.png\", dpi = 300)"
   ]
  },
  {
   "cell_type": "code",
   "execution_count": null,
   "metadata": {},
   "outputs": [],
   "source": [
    "# Plot using seaborn -pope/popg\n",
    "fig_dims = (40, 10)\n",
    "fig, ax = plt.subplots(figsize=fig_dims)\n",
    "melt_group_contact_popeg_fig = sns.barplot(x = \"Joint_Position\", y = \"Mean_POPE_POPG_Count\",\n",
    "                                           hue = \"Substrate?_Chain\", \n",
    "                                           hue_order=[\"Yes_A\",\"No_A\",\"Yes_B\",\"No_B\"], \n",
    "                                           data = popeg_new, palette=palette_dic, \n",
    "                                           estimator=np.mean,ci=90, ax=ax).get_figure()\n",
    "plt.xlabel(\"ResID\")\n",
    "plt.ylabel(\"POPE+POPG Fraction Frames\")\n",
    "plt.legend(loc='upper left');\n",
    "melt_group_contact_popeg_fig.savefig(\"Mean POPE POPG Count by Substrate and Chain Relabel Remove correct.png\", dpi = 300)"
   ]
  },
  {
   "cell_type": "code",
   "execution_count": null,
   "metadata": {},
   "outputs": [],
   "source": [
    "#remove small values for plotting - exploratory\n",
    "group_contact_lipid_count = group_contact[group_contact[\"Lipid_Count\"] > 0.01]\n",
    "group_contact_cdl2 = group_contact[group_contact[\"CDL2\"] > 0.01]\n",
    "group_contact_pope = group_contact[group_contact[\"POPE\"] > 0.01]\n",
    "group_contact_popg = group_contact[group_contact[\"POPG\"] > 0.01]"
   ]
  },
  {
   "cell_type": "markdown",
   "metadata": {},
   "source": [
    "##### Exploratory Plots"
   ]
  },
  {
   "cell_type": "code",
   "execution_count": null,
   "metadata": {},
   "outputs": [],
   "source": [
    "fig_dims = (40, 10)\n",
    "fig, ax = plt.subplots(figsize=fig_dims)\n",
    "group_contact_lip_fig = sns.barplot(x = \"Joint_Position\", y = \"Lipid_Count\", hue = \"Substrate?_Chain\", data = group_contact, ax=ax).get_figure();\n",
    "group_contact_lip_fig.savefig(\"Lipid Count Substrate and Chain All Data.png\", dpi = 300)"
   ]
  },
  {
   "cell_type": "code",
   "execution_count": null,
   "metadata": {},
   "outputs": [],
   "source": [
    "fig_dims = (40, 10)\n",
    "fig, ax = plt.subplots(figsize=fig_dims)\n",
    "group_contact_lip_fig = sns.barplot(x = \"Joint_Position\", y = \"Lipid_Count\", hue = \"Substrate?_Temperature\", data = group_contact_lipid_count, ax=ax).get_figure();\n",
    "group_contact_lip_fig.savefig(\"Lipid Count Substrate and Temp.png\", dpi = 300)"
   ]
  },
  {
   "cell_type": "code",
   "execution_count": null,
   "metadata": {},
   "outputs": [],
   "source": [
    "fig_dims = (40, 10)\n",
    "fig, ax = plt.subplots(figsize=fig_dims)\n",
    "group_contact_sub_fig = sns.barplot(x = \"Joint_Position\", y = \"Lipid_Count\", hue = \"Substrate?\", data = group_contact_lipid_count, ax=ax).get_figure();\n",
    "group_contact_sub_fig.savefig(\"Lipid Count Substrate.png\", dpi = 300)"
   ]
  },
  {
   "cell_type": "code",
   "execution_count": null,
   "metadata": {},
   "outputs": [],
   "source": [
    "fig_dims = (40, 10)\n",
    "fig, ax = plt.subplots(figsize=fig_dims)\n",
    "group_contact_temp_fig = sns.barplot(x = \"Joint_Position\", y = \"Lipid_Count\", hue = \"Temperature(K)\", data = group_contact_lipid_count, ax=ax).get_figure();\n",
    "group_contact_temp_fig.savefig(\"Lipid Count Temperature.png\", dpi = 300)"
   ]
  },
  {
   "cell_type": "code",
   "execution_count": null,
   "metadata": {},
   "outputs": [],
   "source": [
    "fig_dims = (40, 10)\n",
    "fig, ax = plt.subplots(figsize=fig_dims)\n",
    "group_contact_cdl2_fig = sns.barplot(x = \"Joint_Position\", y = \"CDL2\", hue = \"Substrate?_Chain\", data = group_contact_cdl2, ax=ax).get_figure();\n",
    "group_contact_cdl2_fig.savefig(\"CDL2 Count Substrate and Chain Remove Small Values.png\", dpi = 300)"
   ]
  },
  {
   "cell_type": "code",
   "execution_count": null,
   "metadata": {},
   "outputs": [],
   "source": [
    "fig_dims = (40, 10)\n",
    "fig, ax = plt.subplots(figsize=fig_dims)\n",
    "group_contact_pope_fig = sns.barplot(x = \"Joint_Position\", y = \"POPE\", hue = \"Substrate?_Chain\", data = group_contact_pope, ax=ax).get_figure();\n",
    "group_contact_pope_fig.savefig(\"POPE Count Substrate and Chain.png\", dpi = 300)"
   ]
  },
  {
   "cell_type": "code",
   "execution_count": null,
   "metadata": {
    "scrolled": true
   },
   "outputs": [],
   "source": [
    "fig_dims = (40, 10)\n",
    "fig, ax = plt.subplots(figsize=fig_dims)\n",
    "group_contact_popg_fig = sns.barplot(x = \"Joint_Position\", y = \"POPG\", hue = \"Temperature(K)\", data = group_contact_popg, ax=ax).get_figure();\n",
    "group_contact_popg_fig.savefig(\"POPG Count Temperature.png\", dpi = 300)"
   ]
  },
  {
   "cell_type": "markdown",
   "metadata": {},
   "source": [
    "# Significance Tests for Protein-Lipid Interactions"
   ]
  },
  {
   "cell_type": "markdown",
   "metadata": {},
   "source": [
    "#### Check if CDL2 Preference Between Substrate vs No Substrate"
   ]
  },
  {
   "cell_type": "markdown",
   "metadata": {},
   "source": [
    "Keep in mind this result is using all the data! Don't want to do test on data with small points removed - give biased results & skews the test. I made a plot with all the data for substrate & chain to confirm mean plot is correct. Also keep in mind that with the combined temps a bit of power is removed so we're only really detecting the very large differences in sub vs no sub split by chain - this is helpful to only focus on most promising leads. I checked the plots & confirmed they looked reasonable - only very large differences picked up as significant."
   ]
  },
  {
   "cell_type": "code",
   "execution_count": null,
   "metadata": {},
   "outputs": [],
   "source": [
    "# Extract lipid values based on substrate presence + temp - full data\n",
    "cdl2_sub_30, cdl2_sub_37, cdl2_nosub_30, cdl2_nosub_37 = extract_lipid_vals_temp_cdl2(group_contact)"
   ]
  },
  {
   "cell_type": "code",
   "execution_count": null,
   "metadata": {},
   "outputs": [],
   "source": [
    "#Extract values from original dataframe - full data\n",
    "cdl2_sub, cdl2_no_sub = extract_lipid_vals_cdl2(group_contact)"
   ]
  },
  {
   "cell_type": "code",
   "execution_count": null,
   "metadata": {},
   "outputs": [],
   "source": [
    "# Check paritions for sub + temp\n",
    "len(cdl2_sub_30)"
   ]
  },
  {
   "cell_type": "markdown",
   "metadata": {},
   "source": [
    "length cdl2_sub_30 - 243\\\n",
    "length cdl2_sub_37 - 233\\\n",
    "length cdl2_nosub_30 - 241\\\n",
    "length cdl2_nosub_37 - 241\n",
    "\n",
    "\n",
    "Set these partitions"
   ]
  },
  {
   "cell_type": "code",
   "execution_count": null,
   "metadata": {},
   "outputs": [],
   "source": [
    "# Try bootstrap test for substrate vs no substrate CDL2 at 303.15 K\n",
    "pooled_cdl2_30_boot = list(np.hstack([cdl2_sub_30,cdl2_nosub_30]))\n",
    "n_samples = 48\n",
    "iterations = 1000000\n",
    "boot_test_cdl2_30 = bootstrap_lipid(pooled_cdl2_30_boot,n_samples,iterations)"
   ]
  },
  {
   "cell_type": "code",
   "execution_count": null,
   "metadata": {},
   "outputs": [],
   "source": [
    "#Plot bootstrap test histogram sub vs no sub CDL2 preference at 303.15 K\n",
    "plt.hist(boot_test_cdl2_30,bins=100);\n",
    "plt.title(\"Bootstrap Test CDL2 Preference Substrate vs No Substrate at 303.15 K\")\n",
    "plt.xlabel(\"Mean Difference\")\n",
    "plt.ylabel(\"Frequency\");\n",
    "plt.savefig(\"Bootstrap Test Histogram CDL2 Preference Substrate 30 Deg\", dpi=150)"
   ]
  },
  {
   "cell_type": "code",
   "execution_count": null,
   "metadata": {},
   "outputs": [],
   "source": [
    "# Try bootstrap test for substrate vs no substrate CDL2 at 310.15 K\n",
    "pooled_cdl2_37_boot = list(np.hstack([cdl2_sub_37,cdl2_nosub_37]))\n",
    "n_samples = 48\n",
    "iterations = 1000000\n",
    "boot_test_cdl2_37 = bootstrap_lipid(pooled_cdl2_37_boot,n_samples,iterations)"
   ]
  },
  {
   "cell_type": "code",
   "execution_count": null,
   "metadata": {},
   "outputs": [],
   "source": [
    "#Plot bootstrap test histogram sub vs no sub CDL2 preference at 303.15 K\n",
    "plt.hist(boot_test_cdl2_37,bins=100);\n",
    "plt.title(\"Bootstrap Test CDL2 Preference Substrate vs No Substrate at 310.15 K\")\n",
    "plt.xlabel(\"Mean Difference\")\n",
    "plt.ylabel(\"Frequency\");\n",
    "plt.savefig(\"Bootstrap Test Histogram CDL2 Preference Substrate 37 Deg\", dpi=150)"
   ]
  },
  {
   "cell_type": "markdown",
   "metadata": {},
   "source": [
    "Identical distributions for CDl2 at 303.15 and 310.15 K - can use same distribution and combine temps!"
   ]
  },
  {
   "cell_type": "code",
   "execution_count": null,
   "metadata": {},
   "outputs": [],
   "source": [
    "# Check paritions for sub\n",
    "len(cdl2_no_sub)"
   ]
  },
  {
   "cell_type": "markdown",
   "metadata": {},
   "source": [
    "472 values for CDL2 Substrate\\\n",
    "482 values for CDL2 No Substrate\n",
    "\n",
    "Set these partitions"
   ]
  },
  {
   "cell_type": "code",
   "execution_count": null,
   "metadata": {},
   "outputs": [],
   "source": [
    "# Try bootstrap test for substrate vs no substrate CDL2\n",
    "pooled_cdl2_boot = list(np.hstack([cdl2_sub,cdl2_no_sub]))\n",
    "n_samples = 96\n",
    "iterations = 1000000\n",
    "boot_test_cdl2 = bootstrap_lipid(pooled_cdl2_boot,n_samples,iterations)"
   ]
  },
  {
   "cell_type": "code",
   "execution_count": null,
   "metadata": {},
   "outputs": [],
   "source": [
    "#Plot bootstrap test histogram\n",
    "plt.hist(boot_test_cdl2,bins=100);\n",
    "plt.title(\"Bootstrap Test CDL2 Preference Substrate vs No Substrate\")\n",
    "plt.xlabel(\"Mean Difference\")\n",
    "plt.ylabel(\"Frequency\");\n",
    "plt.savefig(\"Boostrap Test Histogram CDL2 Preference Substrate\", dpi=150)"
   ]
  },
  {
   "cell_type": "code",
   "execution_count": null,
   "metadata": {},
   "outputs": [],
   "source": [
    "# Separate out substrate and no substrate for cdl2\n",
    "dic_cdl2_sub, dic_cdl2_no_sub = lipid_dic_cdl2(melt_group_contact_cdl2)"
   ]
  },
  {
   "cell_type": "code",
   "execution_count": null,
   "metadata": {},
   "outputs": [],
   "source": [
    "# Calculate differences in cdl2 values based on protein residue\n",
    "cdl2_sub_diff, cdl2_sub_unique, cdl2_no_sub_unique = chain_pair_vals(dic_cdl2_sub,dic_cdl2_no_sub)"
   ]
  },
  {
   "cell_type": "code",
   "execution_count": null,
   "metadata": {},
   "outputs": [],
   "source": [
    "#Combine all three dicts to one dictionary\n",
    "total_cdl2_diff = {**cdl2_sub_diff,**cdl2_sub_unique,**cdl2_no_sub_unique}"
   ]
  },
  {
   "cell_type": "code",
   "execution_count": null,
   "metadata": {},
   "outputs": [],
   "source": [
    "#Actual difference between substrate vs no substrate CDL2 preference\n",
    "plt.hist(total_cdl2_diff.values(),bins=100);\n",
    "plt.title(\"Actual Substrate vs No Substrate CDL2 Preference\")\n",
    "plt.xlabel(\"Mean Difference\")\n",
    "plt.ylabel(\"Frequency\");\n",
    "#plt.savefig(\"Histogram Substrate vs No Substrate CDL2 Preference\", dpi=150)"
   ]
  },
  {
   "cell_type": "code",
   "execution_count": null,
   "metadata": {},
   "outputs": [],
   "source": [
    "#Calculate p-values using bootstrap test distribution for CDL2 preference\n",
    "cdl2_diff_p_val_boot = p_val(total_cdl2_diff,iterations,boot_test_cdl2)"
   ]
  },
  {
   "cell_type": "code",
   "execution_count": null,
   "metadata": {},
   "outputs": [],
   "source": [
    "# Convert p-values dictionary to dataframe for saving\n",
    "cdl2_diff_p_val_bootseries = pd.Series(cdl2_diff_p_val_boot, name='p-value')\n",
    "cdl2_diff_p_val_bootseries.index.name = \"Amino Acid\"\n",
    "cdl2_diff_p_val_bootseries.reset_index()"
   ]
  },
  {
   "cell_type": "code",
   "execution_count": null,
   "metadata": {},
   "outputs": [],
   "source": [
    "#save p-values!\n",
    "cdl2_diff_p_val_bootseries.to_csv('CDL2 Substrate vs No Substrate p-values bootstrap.csv')"
   ]
  },
  {
   "cell_type": "code",
   "execution_count": null,
   "metadata": {},
   "outputs": [],
   "source": [
    "#Filter for significant p-values for CDL2 preference\n",
    "cdl2_diff_p_val_sig_boot = sig_p_val(cdl2_diff_p_val_boot,0.05)"
   ]
  },
  {
   "cell_type": "markdown",
   "metadata": {},
   "source": [
    "17 amino acids with a statistically significant (1%) difference in CDL2 preference between substrate and no substrate based on the bootstrap test:\n",
    "\n",
    "Chain A:\\\n",
    "Q24, T144 (5% sig level), N146, T161, S299, N320, N325, R328 (5% sig level), N412 (5% sig level), Q443, T444, N450\n",
    "\n",
    "Chain B:\\\n",
    "K1, K2, Q24, S98, K100, T105, S300 (5% sig level), K321, Q443\n",
    "\n",
    "CDL2 favoured when substrate present (Chain A):\\\n",
    "Q24, T144, N146, T161, S299, N325, R328, Q443, T444, N450\n",
    "\n",
    "CDL2 favoured when substrate not present (Chain A):\\\n",
    "N320, N412\n",
    "\n",
    "CDL2 favoured when substrate present (Chain B):\\\n",
    "S300, K321, Q443\n",
    "\n",
    "CDL2 favoured when substrate not present (Chain B):\\\n",
    "K1, K2, Q24, S98, K100, T105\n"
   ]
  },
  {
   "cell_type": "markdown",
   "metadata": {},
   "source": [
    "#### POPE/POPG Preference Substrate vs No Substrate"
   ]
  },
  {
   "cell_type": "code",
   "execution_count": null,
   "metadata": {},
   "outputs": [],
   "source": [
    "# Extract lipid values based on substrate presence + temp - full data\n",
    "pope_popg_sub_30, pope_popg_sub_37, pope_popg_nosub_30, pope_popg_nosub_37 = extract_lipid_vals_temp_pope_popg(group_contact)"
   ]
  },
  {
   "cell_type": "code",
   "execution_count": null,
   "metadata": {},
   "outputs": [],
   "source": [
    "#Extract values from original dataframe - full data\n",
    "pope_popg_sub, pope_popg_no_sub = extract_lipid_vals_pope_popg(group_contact)"
   ]
  },
  {
   "cell_type": "code",
   "execution_count": null,
   "metadata": {},
   "outputs": [],
   "source": [
    "len(pope_popg_nosub_30)"
   ]
  },
  {
   "cell_type": "markdown",
   "metadata": {},
   "source": [
    "length pope_popg_sub_30 - 242\\\n",
    "length pope_popg_sub_37 - 230\\\n",
    "length pope_popg_nosub_30 - 241\\\n",
    "length pope_popg_nosub_37 - 241\n",
    "\n",
    "Set these partitions\n"
   ]
  },
  {
   "cell_type": "code",
   "execution_count": null,
   "metadata": {},
   "outputs": [],
   "source": [
    "# Try bootstrap test for POPE/POPG preference substrate vs no substrate at 303.15 K\n",
    "pooled_pope_popg_boot = list(np.hstack([pope_popg_sub_30,pope_popg_nosub_30]))\n",
    "n_samples = 48\n",
    "iterations = 1000000\n",
    "boot_test_pope_popg_30 = bootstrap_lipid(pooled_pope_popg_boot,n_samples,iterations)"
   ]
  },
  {
   "cell_type": "code",
   "execution_count": null,
   "metadata": {},
   "outputs": [],
   "source": [
    "#Plot bootstrap test histogram at 303.15 K\n",
    "plt.hist(boot_test_pope_popg_30,bins=100);\n",
    "plt.title(\"Bootstrap Test POPE/POPG Preference Substrate vs No Substrate at 303.15 K\")\n",
    "plt.xlabel(\"Mean Difference\")\n",
    "plt.ylabel(\"Frequency\");\n",
    "plt.savefig(\"Bootstrap Test Histogram Substrate vs No Substrate POPE POPG Preference 30 Deg\", dpi=150)"
   ]
  },
  {
   "cell_type": "code",
   "execution_count": null,
   "metadata": {},
   "outputs": [],
   "source": [
    "# Try bootstrap test for POPE/POPG preference substrate vs no substrate at 310.15 K\n",
    "pooled_pope_popg_boot_37 = list(np.hstack([pope_popg_sub_37,pope_popg_nosub_37]))\n",
    "n_samples = 48\n",
    "iterations = 1000000\n",
    "boot_test_pope_popg_37 = bootstrap_lipid(pooled_pope_popg_boot_37,n_samples,iterations)"
   ]
  },
  {
   "cell_type": "code",
   "execution_count": null,
   "metadata": {},
   "outputs": [],
   "source": [
    "#Plot bootstrap test histogram at 310.15 K\n",
    "plt.hist(boot_test_pope_popg_37,bins=100);\n",
    "plt.title(\"Bootstrap Test POPE/POPG Preference Substrate vs No Substrate at 310.15 K\")\n",
    "plt.xlabel(\"Mean Difference\")\n",
    "plt.ylabel(\"Frequency\");\n",
    "plt.savefig(\"Bootstrap Test Histogram Substrate vs No Substrate POPE POPG Preference 37 Deg\", dpi=150)"
   ]
  },
  {
   "cell_type": "markdown",
   "metadata": {},
   "source": [
    "Identical distributions for CDl2 at 303.15 and 310.15 K - can use same distribution and combine temps!"
   ]
  },
  {
   "cell_type": "code",
   "execution_count": null,
   "metadata": {},
   "outputs": [],
   "source": [
    "len(pope_popg_sub)"
   ]
  },
  {
   "cell_type": "markdown",
   "metadata": {},
   "source": [
    "pope_popg_sub - 472\\\n",
    "pope_popg_no_sub - 482\n",
    "\n",
    "Set these partitions"
   ]
  },
  {
   "cell_type": "code",
   "execution_count": null,
   "metadata": {},
   "outputs": [],
   "source": [
    "# Get bootstrap test for substrate vs no substrate POPE/POPG preference\n",
    "pooled_pope_popg_boot = list(np.hstack([pope_popg_sub,pope_popg_no_sub]))\n",
    "n_samples = 96\n",
    "iterations = 1000000\n",
    "boot_test_pope_popg = bootstrap_lipid(pooled_pope_popg_boot,n_samples,iterations)"
   ]
  },
  {
   "cell_type": "code",
   "execution_count": null,
   "metadata": {},
   "outputs": [],
   "source": [
    "#Plot bootstrap test histogram\n",
    "plt.hist(boot_test_pope_popg,bins=100);\n",
    "plt.title(\"Boostrap Test POPE/POPG Preference Substrate vs No Substrate\")\n",
    "plt.xlabel(\"Mean Difference\")\n",
    "plt.ylabel(\"Frequency\");\n",
    "plt.savefig(\"Bootstrap Test Histogram POPE and POPG Preference Substrate\", dpi=150)"
   ]
  },
  {
   "cell_type": "code",
   "execution_count": null,
   "metadata": {},
   "outputs": [],
   "source": [
    "# Separate out substrate and no substrate for pope/popg\n",
    "dic_pope_popg_sub, dic_pope_popg_no_sub = lipid_dic_pope_popg(melt_group_contact_pope_popg)"
   ]
  },
  {
   "cell_type": "code",
   "execution_count": null,
   "metadata": {},
   "outputs": [],
   "source": [
    "# Calculate differences in pope/popg values based on protein residue\n",
    "pope_popg_sub_diff, pope_popg_sub_unique, pope_popg_no_sub_unique = chain_pair_vals(dic_pope_popg_sub,dic_pope_popg_no_sub)"
   ]
  },
  {
   "cell_type": "code",
   "execution_count": null,
   "metadata": {},
   "outputs": [],
   "source": [
    "#Combine all three dicts to one dictionary\n",
    "total_pope_popg_diff = {**pope_popg_sub_diff,**pope_popg_sub_unique,**pope_popg_no_sub_unique}"
   ]
  },
  {
   "cell_type": "code",
   "execution_count": null,
   "metadata": {},
   "outputs": [],
   "source": [
    "#Actual difference between POPE/POPG preference substrate vs no substrate\n",
    "plt.hist(total_pope_popg_diff.values(),bins=100);\n",
    "plt.title(\"Actual Substrate vs No Substrate POPE/POPG Preference\")\n",
    "plt.xlabel(\"Mean Difference\")\n",
    "plt.ylabel(\"Frequency\");\n",
    "#plt.savefig(\"Histogram Substrate vs No Substrate POPE POPG Preference\", dpi=150)"
   ]
  },
  {
   "cell_type": "code",
   "execution_count": null,
   "metadata": {},
   "outputs": [],
   "source": [
    "#Calculate p-values using bootstrap test distribution for POPE/POPG\n",
    "pope_popg_diff_p_val_boot = p_val(total_pope_popg_diff,iterations,boot_test_pope_popg)"
   ]
  },
  {
   "cell_type": "code",
   "execution_count": null,
   "metadata": {},
   "outputs": [],
   "source": [
    "# Convert p-values dictionary to dataframe for saving\n",
    "pope_popg_diff_p_val_series_boot = pd.Series(pope_popg_diff_p_val_boot, name='p-value')\n",
    "pope_popg_diff_p_val_series_boot.index.name = \"Amino Acid\"\n",
    "pope_popg_diff_p_val_series_boot.reset_index()"
   ]
  },
  {
   "cell_type": "code",
   "execution_count": null,
   "metadata": {},
   "outputs": [],
   "source": [
    "#save p-values!\n",
    "pope_popg_diff_p_val_series_boot.to_csv('Substrate vs No Substrate POPE POPG Preference p-values bootstrap.csv')"
   ]
  },
  {
   "cell_type": "code",
   "execution_count": null,
   "metadata": {},
   "outputs": [],
   "source": [
    "#Filter for significant p-values for bootstrap test\n",
    "pope_popg_diff_p_val_sig_boot = sig_p_val(pope_popg_diff_p_val_boot,0.05)"
   ]
  },
  {
   "cell_type": "markdown",
   "metadata": {},
   "source": [
    "Set of 15 amino acids with a significant difference (1%) in POPE/POPG preference between substrate vs no substrate for boostrap test:\n",
    "\n",
    "Chain A:\\\n",
    "T144, N146, T161, S300, N325, N407, Q443, N450\n",
    "\n",
    "Chain B:\\\n",
    "T105, T144 (5% sig level), Q145 (5% sig level), T161, N197, T317, N320, N325 (5% sig level), Q439, Q443\n",
    "\n",
    "In favour of presence of substrate (Chain A):\\\n",
    "S300, N325, N407\n",
    "\n",
    "In favour of presence of substrate (Chain B):\\\n",
    "T105, T144, T161\n",
    "\n",
    "In favour of no substrate presence (Chain A):\\\n",
    "T144, N146, T161, Q443, N450\n",
    "\n",
    "In favour of no substrate presence (Chain B):\\\n",
    "Q145, N197, T317, N320, N325, Q439, Q443\n"
   ]
  },
  {
   "cell_type": "markdown",
   "metadata": {},
   "source": [
    "## Protein-Substrate Contacts"
   ]
  },
  {
   "cell_type": "markdown",
   "metadata": {},
   "source": [
    "### Import Data"
   ]
  },
  {
   "cell_type": "code",
   "execution_count": null,
   "metadata": {},
   "outputs": [],
   "source": [
    "sub_df_1 = pd.read_csv(\"data/protein_substrate_contacts_30_deg_traj_1.csv\")\n",
    "sub_df_2 = pd.read_csv(\"data/protein_substrate_contacts_30_deg_traj_2.csv\")\n",
    "sub_df_3 = pd.read_csv(\"data/protein_substrate_contacts_37_deg_traj_1.csv\")\n",
    "sub_df_4 = pd.read_csv(\"data/protein_substrate_contacts_37_deg_traj_2.csv\")"
   ]
  },
  {
   "cell_type": "code",
   "execution_count": null,
   "metadata": {},
   "outputs": [],
   "source": [
    "sub_frames = [sub_df_1,sub_df_2,sub_df_3,sub_df_4]\n",
    "df_substrate = pd.concat(sub_frames, ignore_index=True)"
   ]
  },
  {
   "cell_type": "code",
   "execution_count": null,
   "metadata": {},
   "outputs": [],
   "source": [
    "# Set protein residue number so it matches the structure!\n",
    "df_substrate[\"Actual Acceptor Protein ResID\"] = df_substrate[\"Acceptor Protein ResID\"] + 7"
   ]
  },
  {
   "cell_type": "markdown",
   "metadata": {},
   "source": [
    "### Extract Amino Acid Type"
   ]
  },
  {
   "cell_type": "code",
   "execution_count": null,
   "metadata": {},
   "outputs": [],
   "source": [
    "df_substrate[\"Substrate Joint Position\"] = df_substrate[\"Substrate Protein Type\"].astype(str) + df_substrate[\"Substrate Protein ResID\"].astype(str)\n",
    "df_substrate[\"Acceptor Joint Position\"] = df_substrate[\"Acceptor Protein Type\"].astype(str) + df_substrate[\"Actual Acceptor Protein ResID\"].astype(str)"
   ]
  },
  {
   "cell_type": "code",
   "execution_count": null,
   "metadata": {},
   "outputs": [],
   "source": [
    "#sort values by protein position\n",
    "df_substrate.sort_values(\"Actual Acceptor Protein ResID\", axis = 0, ascending = True, inplace = True)"
   ]
  },
  {
   "cell_type": "code",
   "execution_count": null,
   "metadata": {},
   "outputs": [],
   "source": [
    "# Calculate mean fraction frames\n",
    "group_sub_contact = df_substrate.groupby([\"ID\",\"Temperature (K)\",\"Acceptor ChainID\", \"Actual Acceptor Protein ResID\",\"Acceptor Joint Position\",\"Substrate ChainID\",\"Substrate Joint Position\"])[\"Fraction_Frames\"].mean().unstack()"
   ]
  },
  {
   "cell_type": "code",
   "execution_count": null,
   "metadata": {},
   "outputs": [],
   "source": [
    " #Reset index to remove multi-indexing\n",
    "group_sub_contact.reset_index(inplace = True)"
   ]
  },
  {
   "cell_type": "code",
   "execution_count": null,
   "metadata": {},
   "outputs": [],
   "source": [
    "#sort values by protein position\n",
    "group_sub_contact.sort_values(\"Actual Acceptor Protein ResID\", axis = 0, ascending = True, inplace = True) "
   ]
  },
  {
   "cell_type": "code",
   "execution_count": null,
   "metadata": {},
   "outputs": [],
   "source": [
    "# Filter Interactions by chain (C or D substrate)\n",
    "chain_C_filter = group_sub_contact[group_sub_contact[\"Substrate ChainID\"] == \"C\"].copy()\n",
    "chain_D_filter = group_sub_contact[group_sub_contact[\"Substrate ChainID\"] == \"D\"].copy()"
   ]
  },
  {
   "cell_type": "code",
   "execution_count": null,
   "metadata": {},
   "outputs": [],
   "source": [
    "# Apply melt for later plotting - chain C\n",
    "c_melt = chain_C_filter.melt(id_vars = [\"ID\",\"Temperature (K)\",\"Actual Acceptor Protein ResID\", \"Acceptor Joint Position\", \"Acceptor ChainID\"], value_vars = [\"N1\",\"I2\",\"G3\",\"R4\",\"E5\",\"T7\",\"D8\",\n",
    "                                                                                                   \"E9\",\"E10\",\"M12\",\"E13\",\"M14\",\"T15\",\n",
    "                                                                                                   \"G16\",\"G17\",\"S18\",\"T19\",\"F20\",\"S21\",\n",
    "                                                                                                   \"I22\",\"Q23\"],\n",
    "                                                                                                   value_name=\"Fraction_Frames\")"
   ]
  },
  {
   "cell_type": "code",
   "execution_count": null,
   "metadata": {},
   "outputs": [],
   "source": [
    "# Apply melt for later plotting - chain D\n",
    "d_melt = chain_D_filter.melt(id_vars = [\"ID\",\"Temperature (K)\",\"Actual Acceptor Protein ResID\", \"Acceptor Joint Position\", \"Acceptor ChainID\"], value_vars = [\"N1\",\"I2\",\"G3\",\"R4\",\"E5\",\"T7\",\"D8\",\n",
    "                                                                                                   \"E9\",\"E10\",\"M12\",\"E13\",\"M14\",\"T15\",\n",
    "                                                                                                   \"G16\",\"G17\",\"S18\",\"T19\"],\n",
    "                                                                                                   value_name=\"Fraction_Frames\")"
   ]
  },
  {
   "cell_type": "code",
   "execution_count": null,
   "metadata": {},
   "outputs": [],
   "source": [
    "#add temp + chainID column\n",
    "c_melt[\"Temperature_AcceptorChainID\"] = c_melt[\"Temperature (K)\"].astype(str) + \"_\" + c_melt[\"Acceptor ChainID\"].astype(str)\n",
    "d_melt[\"Temperature_AcceptorChainID\"] = d_melt[\"Temperature (K)\"].astype(str) + \"_\" + d_melt[\"Acceptor ChainID\"].astype(str)"
   ]
  },
  {
   "cell_type": "markdown",
   "metadata": {},
   "source": [
    "##### Label amino acid type by colour - for later plotting"
   ]
  },
  {
   "cell_type": "markdown",
   "metadata": {},
   "source": [
    "red - negatively charged\\\n",
    "blue - positively charged\\\n",
    "green - hydrophobic\\\n",
    "pink - polar\\\n",
    "yellow - special case (cysteine, glycine, proline)"
   ]
  },
  {
   "cell_type": "code",
   "execution_count": null,
   "metadata": {},
   "outputs": [],
   "source": [
    "amino_colours = {\"N1\":\"pink\",\"I2\":\"green\",\"G3\":\"yellow\",\"R4\":\"blue\",\"E5\":\"red\",\"L6\":\"green\",\"T7\":\"pink\",\"D8\":\"red\",\\\n",
    "                \"E9\":\"red\",\"E10\": \"red\",\"L11\": \"green\",\"M12\":\"green\",\"E13\": \"red\",\"M14\":\"green\",\"T15\":\"pink\",\\\n",
    "                 \"G16\":\"yellow\",\"G17\":\"yellow\", \"S18\":\"pink\",\"T19\":\"pink\",\"F20\":\"green\",\"S21\":\"pink\",\"I22\":\"green\",\\\n",
    "                 \"Q23\":\"pink\"}\n",
    "def apply_amino_colour(string):\n",
    "    return str(amino_colours[string])"
   ]
  },
  {
   "cell_type": "code",
   "execution_count": null,
   "metadata": {},
   "outputs": [],
   "source": [
    "amino_type = {\"N1\":\"polar\",\"I2\":\"hydrophobic\",\"G3\":\"polar\",\"R4\":\"positive charge\",\\\n",
    "              \"E5\":\"negative charge\",\"L6\":\"hydrophobic\",\"T7\":\"polar\",\"D8\":\"negative charge\",\"E9\":\"negative charge\",\\\n",
    "              \"E10\": \"negative charge\",\"L11\": \"hydrophobic\",\"M12\":\"hydrophobic\",\"E13\": \"negative charge\",\"M14\":\"hydrophobic\",\\\n",
    "              \"T15\":\"polar\",\"G16\":\"polar\",\"G17\":\"polar\", \"S18\":\"polar\",\"T19\":\"polar\",\"F20\":\"hydrophobic\",\\\n",
    "              \"S21\":\"polar\",\"I22\":\"hydrophobic\",\"Q23\":\"polar\"}\n",
    "def apply_amino_type(string):\n",
    "    return str(amino_type[string])"
   ]
  },
  {
   "cell_type": "code",
   "execution_count": null,
   "metadata": {},
   "outputs": [],
   "source": [
    "c_melt[\"Substrate Color Column\"] = c_melt[\"Substrate Joint Position\"].apply(apply_amino_colour)\n",
    "d_melt[\"Substrate Color Column\"] = d_melt[\"Substrate Joint Position\"].apply(apply_amino_colour)"
   ]
  },
  {
   "cell_type": "code",
   "execution_count": null,
   "metadata": {},
   "outputs": [],
   "source": [
    "c_melt[\"Substrate Type Column\"] = c_melt[\"Substrate Joint Position\"].apply(apply_amino_type)\n",
    "d_melt[\"Substrate Type Column\"] = d_melt[\"Substrate Joint Position\"].apply(apply_amino_type)"
   ]
  },
  {
   "cell_type": "code",
   "execution_count": null,
   "metadata": {},
   "outputs": [],
   "source": [
    "#remove nan values for comparing to lipid interactions/bokeh\n",
    "c_melt_nonan = c_melt.dropna(inplace = False)\n",
    "d_melt_nonan = d_melt.dropna(inplace = False)"
   ]
  },
  {
   "cell_type": "code",
   "execution_count": null,
   "metadata": {},
   "outputs": [],
   "source": [
    "# remove small values for plotting\n",
    "c_melt_remove = c_melt[c_melt[\"Fraction_Frames\"] > 0.05]\n",
    "c_melt_nonan_remove = c_melt_nonan[c_melt_nonan[\"Fraction_Frames\"] > 0.05]"
   ]
  },
  {
   "cell_type": "code",
   "execution_count": null,
   "metadata": {},
   "outputs": [],
   "source": [
    "# remove small values for plotting\n",
    "d_melt_remove = d_melt[d_melt[\"Fraction_Frames\"] > 0.05]\n",
    "d_melt_nonan_remove = d_melt_nonan[d_melt_nonan[\"Fraction_Frames\"] > 0.05]"
   ]
  },
  {
   "cell_type": "code",
   "execution_count": null,
   "metadata": {},
   "outputs": [],
   "source": [
    "#sort values by protein position\n",
    "c_melt_remove.sort_values(\"Actual Acceptor Protein ResID\", axis = 0, ascending = True, inplace = True) #sort values by protein position\n",
    "d_melt_remove.sort_values(\"Actual Acceptor Protein ResID\", axis = 0, ascending = True, inplace = True) #sort values by protein position"
   ]
  },
  {
   "cell_type": "markdown",
   "metadata": {},
   "source": [
    "### Plotting"
   ]
  },
  {
   "cell_type": "code",
   "execution_count": null,
   "metadata": {},
   "outputs": [],
   "source": [
    "palette_dic_chain = {\"303.15_A\":blue, \"310.15_A\":orange,\"303.15_B\":green,\"310.15_B\":red}"
   ]
  },
  {
   "cell_type": "code",
   "execution_count": null,
   "metadata": {},
   "outputs": [],
   "source": [
    "chain_C_fig = sns.catplot(x=\"Acceptor Joint Position\", y=\"Fraction_Frames\", \n",
    "                          hue='Temperature_AcceptorChainID', data=c_melt_remove, \n",
    "                          palette=palette_dic_chain, \n",
    "                          hue_order=[\"303.15_A\",\"310.15_A\",\"303.15_B\",\"310.15_B\"],\n",
    "                          height = 5, aspect = 3).fig; \n",
    "plt.xlabel('ResID')\n",
    "plt.ylabel('Fraction Frames')\n",
    "chain_C_fig.savefig(\"Chain C Substrate Interactions by Temp and Chain correct.png\", dpi = 300)"
   ]
  },
  {
   "cell_type": "code",
   "execution_count": null,
   "metadata": {},
   "outputs": [],
   "source": [
    "chain_D_fig = sns.catplot(x=\"Acceptor Joint Position\", y=\"Fraction_Frames\", \n",
    "                          hue='Temperature_AcceptorChainID', data=d_melt_remove, \n",
    "                          palette=palette_dic_chain, \n",
    "                          hue_order=[\"303.15_A\",\"310.15_A\",\"303.15_B\",\"310.15_B\"],\n",
    "                          height = 5, aspect = 3).fig; \n",
    "plt.xlabel('ResID')\n",
    "plt.ylabel('Fraction Frames')\n",
    "chain_D_fig.savefig(\"Chain D Substrate Interactions by Temp and Chain correct.png\", dpi = 300)"
   ]
  },
  {
   "cell_type": "code",
   "execution_count": null,
   "metadata": {},
   "outputs": [],
   "source": [
    "palette_dic = {\"negative charge\":blue, \"positive charge\":orange,\"polar\":green,\"hydrophobic\":red}"
   ]
  },
  {
   "cell_type": "code",
   "execution_count": null,
   "metadata": {},
   "outputs": [],
   "source": [
    "# plot chain C interactions by amino type\n",
    "chain_C_fig_type = sns.catplot(x=\"Acceptor Joint Position\", y=\"Fraction_Frames\", \n",
    "                               hue='Substrate Type Column', data=c_melt_remove, \n",
    "                               palette=palette_dic,\n",
    "                               hue_order=[\"hydrophobic\",\"polar\",\"negative charge\",\"positive charge\"],\n",
    "                               height = 5, aspect = 3).fig; \n",
    "plt.xlabel('ResID')\n",
    "plt.ylabel('Fraction Frames')\n",
    "chain_C_fig_type.savefig(\"Chain C Substrate Interactions by amino acid type correct.png\", dpi = 300)"
   ]
  },
  {
   "cell_type": "code",
   "execution_count": null,
   "metadata": {},
   "outputs": [],
   "source": [
    "# plot chain D interactions by amino type\n",
    "chain_D_fig_type = sns.catplot(x=\"Acceptor Joint Position\", y=\"Fraction_Frames\", \n",
    "                               hue='Substrate Type Column', data=d_melt_remove, \n",
    "                               palette=palette_dic, \n",
    "                               hue_order=[\"hydrophobic\",\"polar\",\"negative charge\",\"positive charge\"],\n",
    "                               height = 5, aspect = 3).fig; \n",
    "plt.xlabel('ResID')\n",
    "plt.ylabel('Fraction Frames')\n",
    "chain_D_fig_type.savefig(\"Chain D Substrate Interactions by amino acid type correct.png\", dpi = 300)"
   ]
  },
  {
   "cell_type": "markdown",
   "metadata": {},
   "source": [
    "### Bokeh Plot"
   ]
  },
  {
   "cell_type": "code",
   "execution_count": null,
   "metadata": {},
   "outputs": [],
   "source": [
    "from bokeh.plotting import Figure, output_notebook, show, save\n",
    "from bokeh.models import ColumnDataSource, HoverTool, GroupFilter, CDSView\n",
    "from bokeh.models import BoxSelectTool\n",
    "\n",
    "output_notebook()"
   ]
  },
  {
   "cell_type": "code",
   "execution_count": null,
   "metadata": {},
   "outputs": [],
   "source": [
    "c_data = ColumnDataSource(c_melt_nonan_remove)\n",
    "\n",
    "c_int = Figure(tools='pan,wheel_zoom,box_zoom,reset', tooltips=[('Temperature (K)', '@{Temperature (K)}'), ('Chain', '@{Acceptor ChainID}'),('Sub', '@{Substrate Joint Position}'), ('Acceptor', '@{Acceptor Joint Position}')], width=2000, height=300, x_axis_label = \"Acceptor Position\", y_axis_label = \"Fraction Frames\")\n",
    "c_int.scatter(source=c_data, x='Acceptor Protein ResID', y='Fraction_Frames', \\\n",
    "                  fill_color='Substrate Color Column', size=5)\n",
    "c_int.add_tools(BoxSelectTool(dimensions=\"width\"))\n",
    "\n",
    "show(c_int);"
   ]
  },
  {
   "cell_type": "code",
   "execution_count": null,
   "metadata": {},
   "outputs": [],
   "source": [
    "d_data = ColumnDataSource(d_melt_nonan_remove)\n",
    "\n",
    "d_int = Figure(tools='pan,wheel_zoom,box_zoom,reset', tooltips=[('Temperature (K)', '@{Temperature (K)}'), ('Chain', '@{Acceptor ChainID}'),('Sub', '@{Substrate Joint Position}'), ('Acceptor', '@{Acceptor Joint Position}')], width=2000, height=300, x_axis_label = \"Acceptor Position\", y_axis_label = \"Fraction Frames\")\n",
    "d_int.scatter(source=d_data, x='Acceptor Protein ResID', y='Fraction_Frames', \\\n",
    "                  fill_color='Substrate Color Column', size=5)\n",
    "d_int.add_tools(BoxSelectTool(dimensions=\"width\"))\n",
    "\n",
    "show(d_int);"
   ]
  },
  {
   "cell_type": "markdown",
   "metadata": {},
   "source": [
    "##### Save Bokeh Plot"
   ]
  },
  {
   "cell_type": "code",
   "execution_count": null,
   "metadata": {},
   "outputs": [],
   "source": [
    "save(c_int, filename='data/Chain C Substrate Interactions Bokeh', resources='inline', title='Substrate Interactions');"
   ]
  },
  {
   "cell_type": "code",
   "execution_count": null,
   "metadata": {},
   "outputs": [],
   "source": [
    "save(d_int, filename='data/Chain D Substrate Interactions Bokeh', resources='inline', title='Substrate Interactions');"
   ]
  },
  {
   "cell_type": "markdown",
   "metadata": {},
   "source": [
    "### Timeseries of Specific Protein-Substrate Contacts - Thesis"
   ]
  },
  {
   "cell_type": "code",
   "execution_count": null,
   "metadata": {},
   "outputs": [],
   "source": [
    "# read in data - Q15 Chain A with T19 Sub\n",
    "u1_C_term_polar_sub = pd.read_csv(\"u1 Chain A Q15 with Sub T19 Contacts 6 angstrom.csv\")\n",
    "u2_C_term_polar_sub = pd.read_csv(\"u2 Chain A Q15 with Sub T19 Contacts 6 angstrom.csv\")\n",
    "u3_C_term_polar_sub = pd.read_csv(\"u3 Chain A Q15 with Sub T19 Contacts 6 angstrom.csv\")\n",
    "u4_C_term_polar_sub = pd.read_csv(\"u4 Chain A Q15 with Sub T19 Contacts 6 angstrom.csv\")"
   ]
  },
  {
   "cell_type": "code",
   "execution_count": null,
   "metadata": {},
   "outputs": [],
   "source": [
    "# read in data - D78 Chain A with R4 Sub\n",
    "u1_tail_pin_sub = pd.read_csv(\"u1 Chain A D78 with Sub R4 Contacts 6 angstrom.csv\")\n",
    "u2_tail_pin_sub = pd.read_csv(\"u2 Chain A D78 with Sub R4 Contacts 6 angstrom.csv\")\n",
    "u3_tail_pin_sub = pd.read_csv(\"u3 Chain A D78 with Sub R4 Contacts 6 angstrom.csv\")\n",
    "u4_tail_pin_sub = pd.read_csv(\"u4 Chain A D78 with Sub R4 Contacts 6 angstrom.csv\")"
   ]
  },
  {
   "cell_type": "code",
   "execution_count": null,
   "metadata": {},
   "outputs": [],
   "source": [
    "# read in data - K63 K70 K73 Chain A with E5 D8 D10 Sub\n",
    "u1_middle_pin_sub = pd.read_csv(\"u1 Chain A K63 K70 K73 with Sub E5 D8 D10 Contacts 6 angstrom.csv\")\n",
    "u2_middle_pin_sub = pd.read_csv(\"u2 Chain A K63 K70 K73 with Sub E5 D8 D10 Contacts 6 angstrom.csv\")\n",
    "u3_middle_pin_sub = pd.read_csv(\"u3 Chain A K63 K70 K73 with Sub E5 D8 D10 Contacts 6 angstrom.csv\")\n",
    "u4_middle_pin_sub = pd.read_csv(\"u4 Chain A K63 K70 K73 with Sub E5 D8 D10 Contacts 6 angstrom.csv\")"
   ]
  },
  {
   "cell_type": "code",
   "execution_count": null,
   "metadata": {},
   "outputs": [],
   "source": [
    "# read in data - K499 Chain A with E9 Sub\n",
    "u1_middle_pin_chainA_nbd_sub = pd.read_csv(\"u1 Chain A K499 with Sub E9 Contacts 6 angstrom.csv\")\n",
    "u2_middle_pin_chainA_nbd_sub = pd.read_csv(\"u2 Chain A K499 with Sub E9 Contacts 6 angstrom.csv\")\n",
    "u3_middle_pin_chainA_nbd_sub = pd.read_csv(\"u3 Chain A K499 with Sub E9 Contacts 6 angstrom.csv\")\n",
    "u4_middle_pin_chainA_nbd_sub = pd.read_csv(\"u4 Chain A K499 with Sub E9 Contacts 6 angstrom.csv\")"
   ]
  },
  {
   "cell_type": "code",
   "execution_count": null,
   "metadata": {},
   "outputs": [],
   "source": [
    "# read in data - K607 Chain B with E13 Sub\n",
    "u1_middle_pin_chainB_nbd_sub = pd.read_csv(\"u1 Chain B K607 with Sub E13 Contacts 6 angstrom.csv\")\n",
    "u2_middle_pin_chainB_nbd_sub = pd.read_csv(\"u2 Chain B K607 with Sub E13 Contacts 6 angstrom.csv\")\n",
    "u3_middle_pin_chainB_nbd_sub = pd.read_csv(\"u3 Chain B K607 with Sub E13 Contacts 6 angstrom.csv\")\n",
    "u4_middle_pin_chainB_nbd_sub = pd.read_csv(\"u4 Chain B K607 with Sub E13 Contacts 6 angstrom.csv\")"
   ]
  },
  {
   "cell_type": "code",
   "execution_count": null,
   "metadata": {},
   "outputs": [],
   "source": [
    "# read in data - N617 Chain B with S21 Sub\n",
    "u1_chainB_nbd_sub = pd.read_csv(\"u2 Chain B N617 with Sub S21 Contacts 6 angstrom.csv\")\n",
    "u2_chainB_nbd_sub = pd.read_csv(\"u2 Chain B N617 with Sub S21 Contacts 6 angstrom.csv\")\n",
    "u3_chainB_nbd_sub = pd.read_csv(\"u3 Chain B N617 with Sub S21 Contacts 6 angstrom.csv\")\n",
    "u4_chainB_nbd_sub = pd.read_csv(\"u4 Chain B N617 with Sub S21 Contacts 6 angstrom.csv\")"
   ]
  },
  {
   "cell_type": "code",
   "execution_count": null,
   "metadata": {},
   "outputs": [],
   "source": [
    "# concatonate by temp - Q15 Chain A with T19 Sub\n",
    "C_term_polar_sub_30_deg = pd.concat([u1_C_term_polar_sub,\n",
    "                               u2_C_term_polar_sub]).groupby('Time (ns)').agg(avg=('# Contacts','mean'))\n",
    "C_term_polar_sub_37_deg = pd.concat([u3_C_term_polar_sub,\n",
    "                               u4_C_term_polar_sub]).groupby('Time (ns)').agg(avg=('# Contacts','mean'))"
   ]
  },
  {
   "cell_type": "code",
   "execution_count": null,
   "metadata": {},
   "outputs": [],
   "source": [
    "# concatonate by temp - D78 Chain A with R4 Sub\n",
    "tail_pin_sub_30_deg = pd.concat([u1_tail_pin_sub,\n",
    "                               u2_tail_pin_sub]).groupby('Time (ns)').agg(avg=('# Contacts','mean'))\n",
    "tail_pin_sub_37_deg = pd.concat([u3_tail_pin_sub,\n",
    "                               u4_tail_pin_sub]).groupby('Time (ns)').agg(avg=('# Contacts','mean'))"
   ]
  },
  {
   "cell_type": "code",
   "execution_count": null,
   "metadata": {},
   "outputs": [],
   "source": [
    "# concatonate by temp - K63 K70 K73 Chain A with E5 D8 D10 Sub\n",
    "middle_pin_sub_30_deg = pd.concat([u1_middle_pin_sub,\n",
    "                               u2_middle_pin_sub]).groupby('Time (ns)').agg(avg=('# Contacts','mean'))\n",
    "middle_pin_sub_37_deg = pd.concat([u3_middle_pin_sub,\n",
    "                               u4_middle_pin_sub]).groupby('Time (ns)').agg(avg=('# Contacts','mean'))"
   ]
  },
  {
   "cell_type": "code",
   "execution_count": null,
   "metadata": {},
   "outputs": [],
   "source": [
    "# concatonate by temp - K499 Chain A with E9 Sub\n",
    "middle_pin_chainA_nbd_sub_30_deg = pd.concat([u1_middle_pin_chainA_nbd_sub,\n",
    "                               u2_middle_pin_chainA_nbd_sub]).groupby('Time (ns)').agg(avg=('# Contacts','mean'))\n",
    "middle_pin_chainA_nbd_sub_37_deg = pd.concat([u3_middle_pin_chainA_nbd_sub,\n",
    "                               u4_middle_pin_chainA_nbd_sub]).groupby('Time (ns)').agg(avg=('# Contacts','mean'))"
   ]
  },
  {
   "cell_type": "code",
   "execution_count": null,
   "metadata": {},
   "outputs": [],
   "source": [
    "# concatonate by temp - K607 Chain B with E13 Sub\n",
    "middle_pin_chainB_nbd_sub_30_deg = pd.concat([u1_middle_pin_chainB_nbd_sub,\n",
    "                               u2_middle_pin_chainB_nbd_sub]).groupby('Time (ns)').agg(avg=('# Contacts','mean'))\n",
    "middle_pin_chainB_nbd_sub_37_deg = pd.concat([u3_middle_pin_chainB_nbd_sub,\n",
    "                               u4_middle_pin_chainB_nbd_sub]).groupby('Time (ns)').agg(avg=('# Contacts','mean'))"
   ]
  },
  {
   "cell_type": "code",
   "execution_count": null,
   "metadata": {},
   "outputs": [],
   "source": [
    "# concatonate by temp - N617 Chain B with S21 Sub\n",
    "chainB_nbd_sub_30_deg = pd.concat([u1_chainB_nbd_sub,\n",
    "                               u2_chainB_nbd_sub]).groupby('Time (ns)').agg(avg=('# Contacts','mean'))\n",
    "chainB_nbd_sub_37_deg = pd.concat([u3_chainB_nbd_sub,\n",
    "                               u4_chainB_nbd_sub]).groupby('Time (ns)').agg(avg=('# Contacts','mean'))"
   ]
  },
  {
   "cell_type": "code",
   "execution_count": null,
   "metadata": {},
   "outputs": [],
   "source": [
    "# Reset index - Q15 Chain A with T19 Sub\n",
    "C_term_polar_sub_30_deg.reset_index(inplace = True)\n",
    "C_term_polar_sub_37_deg.reset_index(inplace = True)"
   ]
  },
  {
   "cell_type": "code",
   "execution_count": null,
   "metadata": {},
   "outputs": [],
   "source": [
    "# Reset index - D78 Chain A with R4 Sub\n",
    "tail_pin_sub_30_deg.reset_index(inplace = True)\n",
    "tail_pin_sub_37_deg.reset_index(inplace = True)"
   ]
  },
  {
   "cell_type": "code",
   "execution_count": null,
   "metadata": {},
   "outputs": [],
   "source": [
    "# Reset index - K63 K70 K73 Chain A with E5 D8 D10 Sub\n",
    "middle_pin_sub_30_deg.reset_index(inplace = True)\n",
    "middle_pin_sub_37_deg.reset_index(inplace = True)"
   ]
  },
  {
   "cell_type": "code",
   "execution_count": null,
   "metadata": {},
   "outputs": [],
   "source": [
    "# Reset index - K499 Chain A with E9 Sub\n",
    "middle_pin_chainA_nbd_sub_30_deg.reset_index(inplace = True)\n",
    "middle_pin_chainA_nbd_sub_37_deg.reset_index(inplace = True)"
   ]
  },
  {
   "cell_type": "code",
   "execution_count": null,
   "metadata": {},
   "outputs": [],
   "source": [
    "# Reset index - K607 Chain B with E13 Sub\n",
    "middle_pin_chainB_nbd_sub_30_deg.reset_index(inplace = True)\n",
    "middle_pin_chainB_nbd_sub_37_deg.reset_index(inplace = True)"
   ]
  },
  {
   "cell_type": "code",
   "execution_count": null,
   "metadata": {},
   "outputs": [],
   "source": [
    "# Reset index - N617 Chain B with S21 Sub\n",
    "chainB_nbd_sub_30_deg.reset_index(inplace = True)\n",
    "chainB_nbd_sub_37_deg.reset_index(inplace = True)"
   ]
  },
  {
   "cell_type": "code",
   "execution_count": null,
   "metadata": {},
   "outputs": [],
   "source": [
    "# Add in rolling averages - Q15 Chain A with T19 Sub\n",
    "C_term_polar_sub_30_deg_rolling = C_term_polar_sub_30_deg['avg'].rolling(window=1000,center=True).mean()\n",
    "C_term_polar_sub_37_deg_rolling = C_term_polar_sub_37_deg['avg'].rolling(window=1000,center=True).mean()"
   ]
  },
  {
   "cell_type": "code",
   "execution_count": null,
   "metadata": {},
   "outputs": [],
   "source": [
    "# Add in rolling averages - D78 Chain A with R4 Sub\n",
    "tail_pin_sub_30_deg_rolling = tail_pin_sub_30_deg['avg'].rolling(window=1000,center=True).mean()\n",
    "tail_pin_sub_37_deg_rolling = tail_pin_sub_37_deg['avg'].rolling(window=1000,center=True).mean()"
   ]
  },
  {
   "cell_type": "code",
   "execution_count": null,
   "metadata": {},
   "outputs": [],
   "source": [
    "# Add in rolling averages - K63 K70 K73 Chain A with E5 D8 D10 Sub\n",
    "middle_pin_sub_30_deg_rolling = middle_pin_sub_30_deg['avg'].rolling(window=1000,center=True).mean()\n",
    "middle_pin_sub_37_deg_rolling = middle_pin_sub_37_deg['avg'].rolling(window=1000,center=True).mean()"
   ]
  },
  {
   "cell_type": "code",
   "execution_count": null,
   "metadata": {},
   "outputs": [],
   "source": [
    "# Add in rolling averages - K499 Chain A with E9 Sub\n",
    "middle_pin_chainA_nbd_sub_30_deg_rolling = middle_pin_chainA_nbd_sub_30_deg['avg'].rolling(window=1000,center=True).mean()\n",
    "middle_pin_chainA_nbd_sub_37_deg_rolling = middle_pin_chainA_nbd_sub_37_deg['avg'].rolling(window=1000,center=True).mean()"
   ]
  },
  {
   "cell_type": "code",
   "execution_count": null,
   "metadata": {},
   "outputs": [],
   "source": [
    "# Add in rolling averages - K607 Chain B with E13 Sub\n",
    "middle_pin_chainB_nbd_sub_30_deg_rolling = middle_pin_chainB_nbd_sub_30_deg['avg'].rolling(window=1000,center=True).mean()\n",
    "middle_pin_chainB_nbd_sub_37_deg_rolling = middle_pin_chainB_nbd_sub_37_deg['avg'].rolling(window=1000,center=True).mean()"
   ]
  },
  {
   "cell_type": "code",
   "execution_count": null,
   "metadata": {},
   "outputs": [],
   "source": [
    "# Add in rolling averages - N617 Chain B with S21 Sub\n",
    "chainB_nbd_sub_30_deg_rolling = chainB_nbd_sub_30_deg['avg'].rolling(window=1000,center=True).mean()\n",
    "chainB_nbd_sub_37_deg_rolling = chainB_nbd_sub_37_deg['avg'].rolling(window=1000,center=True).mean()"
   ]
  },
  {
   "cell_type": "code",
   "execution_count": null,
   "metadata": {},
   "outputs": [],
   "source": [
    "# Plot with rolling averages - Q15 Chain A with T19 Sub\n",
    "#plt.errorbar(x=C_term_polar_sub_30_deg[\"Time (ns)\"],y=C_term_polar_sub_30_deg[\"avg\"],label=\"310 K\")\n",
    "plt.errorbar(x=C_term_polar_sub_30_deg[\"Time (ns)\"],y=C_term_polar_sub_30_deg_rolling,label=\"303 K\")\n",
    "#plt.errorbar(x=C_term_polar_sub_37_deg[\"Time (ns)\"],y=C_term_polar_sub_37_deg[\"avg\"],label=\"310 K\")\n",
    "plt.errorbar(x=C_term_polar_sub_37_deg[\"Time (ns)\"],y=C_term_polar_sub_37_deg_rolling,label=\"310 K\")\n",
    "plt.legend(loc='upper right')\n",
    "plt.title(\"Contacts Chain A Q15 with Sub T19\")\n",
    "plt.xlabel(\"Time (ns)\")\n",
    "plt.ylabel(\"Average # Contacts\")\n",
    "plt.savefig(\"Average Contacts Chain A Q15 with Sub T19.png\", dpi=300)"
   ]
  },
  {
   "cell_type": "code",
   "execution_count": null,
   "metadata": {},
   "outputs": [],
   "source": [
    "# Plot with rolling averages - D78 Chain A with R4 Sub\n",
    "#plt.errorbar(x=tail_pin_sub_30_deg[\"Time (ns)\"],y=tail_pin_sub_30_deg[\"avg\"],label=\"310 K\")\n",
    "plt.errorbar(x=tail_pin_sub_30_deg[\"Time (ns)\"],y=tail_pin_sub_30_deg_rolling,label=\"303 K\")\n",
    "#plt.errorbar(x=tail_pin_sub_37_deg[\"Time (ns)\"],y=tail_pin_sub_37_deg[\"avg\"],label=\"310 K\")\n",
    "plt.errorbar(x=tail_pin_sub_37_deg[\"Time (ns)\"],y=tail_pin_sub_37_deg_rolling,label=\"310 K\")\n",
    "plt.legend(loc='upper right')\n",
    "plt.title(\"Contacts Chain A D78 with Sub R4\")\n",
    "plt.xlabel(\"Time (ns)\")\n",
    "plt.ylabel(\"Average # Contacts\")\n",
    "plt.savefig(\"Average Contacts Chain A D78 with Sub R4.png\", dpi=300)"
   ]
  },
  {
   "cell_type": "code",
   "execution_count": null,
   "metadata": {},
   "outputs": [],
   "source": [
    "# Plot with rolling averages - K63 K70 K73 Chain A with E5 D8 D10 Sub\n",
    "#plt.errorbar(x=middle_pin_sub_30_deg[\"Time (ns)\"],y=middle_pin_sub_30_deg[\"avg\"],label=\"310 K\")\n",
    "plt.errorbar(x=middle_pin_sub_30_deg[\"Time (ns)\"],y=middle_pin_sub_30_deg_rolling,label=\"303 K\")\n",
    "#plt.errorbar(x=middle_pin_sub_37_deg[\"Time (ns)\"],y=middle_pin_sub_37_deg[\"avg\"],label=\"310 K\")\n",
    "plt.errorbar(x=middle_pin_sub_37_deg[\"Time (ns)\"],y=middle_pin_sub_37_deg_rolling,label=\"310 K\")\n",
    "plt.legend(loc='upper right')\n",
    "plt.title(\"Contacts Chain A K63 K70 K73 with Sub E5 D8 D10\")\n",
    "plt.xlabel(\"Time (ns)\")\n",
    "plt.ylabel(\"Average # Contacts\")\n",
    "plt.savefig(\"Average Contacts Chain A K63 K70 K73 with Sub E5 D8 D10.png\", dpi=300)"
   ]
  },
  {
   "cell_type": "code",
   "execution_count": null,
   "metadata": {},
   "outputs": [],
   "source": [
    "# Plot with rolling averages - K499 Chain A with E9 Sub\n",
    "#plt.errorbar(x=middle_pin_chainA_nbd_sub_30_deg[\"Time (ns)\"],y=middle_pin_chainA_nbd_sub_30_deg[\"avg\"],label=\"310 K\")\n",
    "plt.errorbar(x=middle_pin_chainA_nbd_sub_30_deg[\"Time (ns)\"],y=middle_pin_chainA_nbd_sub_30_deg_rolling,label=\"303 K\")\n",
    "#plt.errorbar(x=middle_pin_chainA_nbd_sub_37_deg[\"Time (ns)\"],y=middle_pin_chainA_nbd_sub_37_deg[\"avg\"],label=\"310 K\")\n",
    "plt.errorbar(x=middle_pin_chainA_nbd_sub_37_deg[\"Time (ns)\"],y=middle_pin_chainA_nbd_sub_37_deg_rolling,label=\"310 K\")\n",
    "plt.legend(loc='upper right')\n",
    "plt.title(\"Contacts Chain A K499 with Sub E9\")\n",
    "plt.xlabel(\"Time (ns)\")\n",
    "plt.ylabel(\"Average # Contacts\")\n",
    "plt.savefig(\"Average Contacts Chain A K499 with Sub E9.png\", dpi=300)"
   ]
  },
  {
   "cell_type": "code",
   "execution_count": null,
   "metadata": {},
   "outputs": [],
   "source": [
    "# Plot with rolling averages - K607 Chain B with E13 Sub\n",
    "#plt.errorbar(x=middle_pin_chainB_nbd_sub_30_deg[\"Time (ns)\"],y=middle_pin_chainB_nbd_sub_30_deg[\"avg\"],label=\"310 K\")\n",
    "plt.errorbar(x=middle_pin_chainB_nbd_sub_30_deg[\"Time (ns)\"],y=middle_pin_chainB_nbd_sub_30_deg_rolling,label=\"303 K\")\n",
    "#plt.errorbar(x=middle_pin_chainB_nbd_sub_37_deg[\"Time (ns)\"],y=middle_pin_chainB_nbd_sub_37_deg[\"avg\"],label=\"310 K\")\n",
    "plt.errorbar(x=middle_pin_chainB_nbd_sub_37_deg[\"Time (ns)\"],y=middle_pin_chainB_nbd_sub_37_deg_rolling,label=\"310 K\")\n",
    "plt.legend(loc='upper right')\n",
    "plt.title(\"Contacts Chain B K607 with Sub E13\")\n",
    "plt.xlabel(\"Time (ns)\")\n",
    "plt.ylabel(\"Average # Contacts\")\n",
    "plt.savefig(\"Average Contacts Chain B K607 with Sub E13.png\", dpi=300)"
   ]
  },
  {
   "cell_type": "code",
   "execution_count": null,
   "metadata": {},
   "outputs": [],
   "source": [
    "# Plot with rolling averages - N617 Chain B with S21 Sub\n",
    "#plt.errorbar(x=chainB_nbd_sub_30_deg[\"Time (ns)\"],y=chainB_nbd_sub_30_deg[\"avg\"],label=\"310 K\")\n",
    "plt.errorbar(x=chainB_nbd_sub_30_deg[\"Time (ns)\"],y=chainB_nbd_sub_30_deg_rolling,label=\"303 K\")\n",
    "#plt.errorbar(x=chainB_nbd_sub_37_deg[\"Time (ns)\"],y=chainB_nbd_sub_37_deg[\"avg\"],label=\"310 K\")\n",
    "plt.errorbar(x=chainB_nbd_sub_37_deg[\"Time (ns)\"],y=chainB_nbd_sub_37_deg_rolling,label=\"310 K\")\n",
    "plt.legend(loc='upper right')\n",
    "plt.title(\"Contacts Chain B N617 with Sub S21\")\n",
    "plt.xlabel(\"Time (ns)\")\n",
    "plt.ylabel(\"Average # Contacts\")\n",
    "plt.savefig(\"Average Contacts Chain B N617 with Sub S21.png\", dpi=300)"
   ]
  },
  {
   "cell_type": "markdown",
   "metadata": {},
   "source": [
    "### Membrane Enrichment"
   ]
  },
  {
   "cell_type": "markdown",
   "metadata": {},
   "source": [
    "Look at using radial distribution curve for each lipid - CDL2, POPE, and POPG and see if it tells us about how these lipids interact in general with target amino acids. Function looks at density of lipids around a target reference."
   ]
  },
  {
   "cell_type": "code",
   "execution_count": null,
   "metadata": {},
   "outputs": [],
   "source": [
    "# Reimport all contacts for plotting - with substrate\n",
    "cdl2_sub_30_deg_traj_1 = pd.read_csv(\"data/CDL2_Band_Enrichment_Sub_30_Deg_Traj_1.csv\")\n",
    "cdl2_sub_37_deg_traj_1 = pd.read_csv(\"data/CDL2_Band_Enrichment_Sub_37_Deg_Traj_1.csv\")\n",
    "cdl2_sub_30_deg_traj_2 = pd.read_csv(\"data/CDL2_Band_Enrichment_Sub_30_Deg_Traj_2.csv\")\n",
    "cdl2_sub_37_deg_traj_2 = pd.read_csv(\"data/CDL2_Band_Enrichment_Sub_37_Deg_Traj_2.csv\")\n",
    "pope_sub_30_deg_traj_1 = pd.read_csv(\"data/POPE_Band_Enrichment_Sub_30_Deg_Traj_1.csv\")\n",
    "pope_sub_37_deg_traj_1 = pd.read_csv(\"data/POPE_Band_Enrichment_Sub_37_Deg_Traj_1.csv\")\n",
    "pope_sub_30_deg_traj_2 = pd.read_csv(\"data/POPE_Band_Enrichment_Sub_30_Deg_Traj_2.csv\")\n",
    "pope_sub_37_deg_traj_2 = pd.read_csv(\"data/POPE_Band_Enrichment_Sub_37_Deg_Traj_2.csv\")\n",
    "popg_sub_30_deg_traj_1 = pd.read_csv(\"data/POPG_Band_Enrichment_Sub_30_Deg_Traj_1.csv\")\n",
    "popg_sub_37_deg_traj_1 = pd.read_csv(\"data/POPG_Band_Enrichment_Sub_37_Deg_Traj_1.csv\")\n",
    "popg_sub_30_deg_traj_2 = pd.read_csv(\"data/POPG_Band_Enrichment_Sub_30_Deg_Traj_2.csv\")\n",
    "popg_sub_37_deg_traj_2 = pd.read_csv(\"data/POPG_Band_Enrichment_Sub_37_Deg_Traj_2.csv\")"
   ]
  },
  {
   "cell_type": "code",
   "execution_count": null,
   "metadata": {},
   "outputs": [],
   "source": [
    "# Reimport all contacts for plotting - without substrate\n",
    "cdl2_nosub_30_deg_traj_1 = pd.read_csv(\"data/CDL2_Band_Enrichment_Nosub_30_Deg_Traj_1.csv\")\n",
    "cdl2_nosub_37_deg_traj_1 = pd.read_csv(\"data/CDL2_Band_Enrichment_Nosub_37_Deg_Traj_1.csv\")\n",
    "cdl2_nosub_30_deg_traj_2 = pd.read_csv(\"data/CDL2_Band_Enrichment_Nosub_30_Deg_Traj_2.csv\")\n",
    "cdl2_nosub_37_deg_traj_2 = pd.read_csv(\"data/CDL2_Band_Enrichment_Nosub_37_Deg_Traj_2.csv\")\n",
    "pope_nosub_30_deg_traj_1 = pd.read_csv(\"data/POPE_Band_Enrichment_Nosub_30_Deg_Traj_1.csv\")\n",
    "pope_nosub_37_deg_traj_1 = pd.read_csv(\"data/POPE_Band_Enrichment_Nosub_37_Deg_Traj_1.csv\")\n",
    "pope_nosub_30_deg_traj_2 = pd.read_csv(\"data/POPE_Band_Enrichment_Nosub_30_Deg_Traj_2.csv\")\n",
    "pope_nosub_37_deg_traj_2 = pd.read_csv(\"data/POPE_Band_Enrichment_Nosub_37_Deg_Traj_2.csv\")\n",
    "popg_nosub_30_deg_traj_1 = pd.read_csv(\"data/POPG_Band_Enrichment_Nosub_30_Deg_Traj_1.csv\")\n",
    "popg_nosub_37_deg_traj_1 = pd.read_csv(\"data/POPG_Band_Enrichment_Nosub_37_Deg_Traj_1.csv\")\n",
    "popg_nosub_30_deg_traj_2 = pd.read_csv(\"data/POPG_Band_Enrichment_Nosub_30_Deg_Traj_2.csv\")\n",
    "popg_nosub_37_deg_traj_2 = pd.read_csv(\"data/POPG_Band_Enrichment_Nosub_37_Deg_Traj_2.csv\")"
   ]
  },
  {
   "cell_type": "code",
   "execution_count": null,
   "metadata": {},
   "outputs": [],
   "source": [
    "# Concat trajectory repeats - substrate\n",
    "cdl2_sub_30_deg = pd.concat([cdl2_sub_30_deg_traj_1,cdl2_sub_30_deg_traj_2]).groupby('Band Distance').agg(avg=('Enrichment_Score','mean'), std=('Enrichment_Score','std'))\n",
    "cdl2_sub_37_deg = pd.concat([cdl2_sub_37_deg_traj_1,cdl2_sub_37_deg_traj_2]).groupby('Band Distance').agg(avg=('Enrichment_Score','mean'), std=('Enrichment_Score','std'))\n",
    "pope_sub_30_deg = pd.concat([pope_sub_30_deg_traj_1,pope_sub_30_deg_traj_2]).groupby('Band Distance').agg(avg=('Enrichment_Score','mean'), std=('Enrichment_Score','std'))\n",
    "pope_sub_37_deg = pd.concat([pope_sub_37_deg_traj_1,pope_sub_37_deg_traj_2]).groupby('Band Distance').agg(avg=('Enrichment_Score','mean'), std=('Enrichment_Score','std'))\n",
    "popg_sub_30_deg = pd.concat([popg_sub_30_deg_traj_1,popg_sub_30_deg_traj_2]).groupby('Band Distance').agg(avg=('Enrichment_Score','mean'), std=('Enrichment_Score','std'))\n",
    "popg_sub_37_deg = pd.concat([popg_sub_37_deg_traj_1,popg_sub_37_deg_traj_2]).groupby('Band Distance').agg(avg=('Enrichment_Score','mean'), std=('Enrichment_Score','std'))"
   ]
  },
  {
   "cell_type": "code",
   "execution_count": null,
   "metadata": {},
   "outputs": [],
   "source": [
    "# Concat trajectory repeats - no substrate\n",
    "cdl2_nosub_30_deg = pd.concat([cdl2_nosub_30_deg_traj_1,cdl2_nosub_30_deg_traj_2]).groupby('Band Distance').agg(avg=('Enrichment_Score','mean'), std=('Enrichment_Score','std'))\n",
    "cdl2_nosub_37_deg = pd.concat([cdl2_nosub_37_deg_traj_1,cdl2_nosub_37_deg_traj_2]).groupby('Band Distance').agg(avg=('Enrichment_Score','mean'), std=('Enrichment_Score','std'))\n",
    "pope_nosub_30_deg = pd.concat([pope_nosub_30_deg_traj_1,pope_nosub_30_deg_traj_2]).groupby('Band Distance').agg(avg=('Enrichment_Score','mean'), std=('Enrichment_Score','std'))\n",
    "pope_nosub_37_deg = pd.concat([pope_nosub_37_deg_traj_1,pope_nosub_37_deg_traj_2]).groupby('Band Distance').agg(avg=('Enrichment_Score','mean'), std=('Enrichment_Score','std'))\n",
    "popg_nosub_30_deg = pd.concat([popg_nosub_30_deg_traj_1,popg_nosub_30_deg_traj_2]).groupby('Band Distance').agg(avg=('Enrichment_Score','mean'), std=('Enrichment_Score','std'))\n",
    "popg_nosub_37_deg = pd.concat([popg_nosub_37_deg_traj_1,popg_nosub_37_deg_traj_2]).groupby('Band Distance').agg(avg=('Enrichment_Score','mean'), std=('Enrichment_Score','std'))"
   ]
  },
  {
   "cell_type": "code",
   "execution_count": null,
   "metadata": {},
   "outputs": [],
   "source": [
    "#Reset index to remove multi-indexing - substrate\n",
    "cdl2_sub_30_deg.reset_index(inplace = True)\n",
    "cdl2_sub_37_deg.reset_index(inplace = True)\n",
    "pope_sub_30_deg.reset_index(inplace = True) \n",
    "pope_sub_37_deg.reset_index(inplace = True) \n",
    "popg_sub_30_deg.reset_index(inplace = True) \n",
    "popg_sub_37_deg.reset_index(inplace = True) "
   ]
  },
  {
   "cell_type": "code",
   "execution_count": null,
   "metadata": {},
   "outputs": [],
   "source": [
    "#Reset index to remove multi-indexing - no substrate\n",
    "cdl2_nosub_30_deg.reset_index(inplace = True)\n",
    "cdl2_nosub_37_deg.reset_index(inplace = True)\n",
    "pope_nosub_30_deg.reset_index(inplace = True) \n",
    "pope_nosub_37_deg.reset_index(inplace = True) \n",
    "popg_nosub_30_deg.reset_index(inplace = True) \n",
    "popg_nosub_37_deg.reset_index(inplace = True)"
   ]
  },
  {
   "cell_type": "code",
   "execution_count": null,
   "metadata": {},
   "outputs": [],
   "source": [
    "# Plot by temp for substrate\n",
    "plt.errorbar(x=cdl2_sub_30_deg[\"Band Distance\"],y=cdl2_sub_30_deg[\"avg\"],yerr=cdl2_sub_30_deg[\"std\"],xerr=2.5,label=\"CDL2 303.15 K\")\n",
    "plt.errorbar(x=pope_sub_30_deg[\"Band Distance\"],y=pope_sub_30_deg[\"avg\"],yerr=pope_sub_30_deg[\"std\"],xerr=2.5,label=\"POPE 303.15 K\")\n",
    "plt.errorbar(x=popg_sub_30_deg[\"Band Distance\"],y=popg_sub_30_deg[\"avg\"],yerr=popg_sub_30_deg[\"std\"],xerr=2.5,label=\"POPG 303.15 K\")\n",
    "plt.errorbar(x=cdl2_sub_37_deg[\"Band Distance\"],y=cdl2_sub_37_deg[\"avg\"],yerr=cdl2_sub_37_deg[\"std\"],xerr=2.5,label=\"CDL2 310.15 K\")\n",
    "plt.errorbar(x=pope_sub_37_deg[\"Band Distance\"],y=pope_sub_37_deg[\"avg\"],yerr=pope_sub_37_deg[\"std\"],xerr=2.5,label=\"POPE 310.15 K\")\n",
    "plt.errorbar(x=popg_sub_37_deg[\"Band Distance\"],y=popg_sub_37_deg[\"avg\"],yerr=popg_sub_37_deg[\"std\"],xerr=2.5,label=\"POPG 310.15 K\")\n",
    "plt.legend(loc='best')\n",
    "plt.title(\"Lipid Enrichment with Substrate\")\n",
    "plt.xlabel(\"Radial Distance From Protein (Angstrom)\")\n",
    "plt.ylabel(\"Enrichment\")\n",
    "plt.savefig(\"Lipid Enrichment by Temp with Substrate\", dpi=300)"
   ]
  },
  {
   "cell_type": "code",
   "execution_count": null,
   "metadata": {},
   "outputs": [],
   "source": [
    "# Plot by temp no substrate\n",
    "plt.errorbar(x=cdl2_nosub_30_deg[\"Band Distance\"],y=cdl2_nosub_30_deg[\"avg\"],yerr=cdl2_nosub_30_deg[\"std\"],xerr=2.5,label=\"CDL2 303.15 K\")\n",
    "plt.errorbar(x=pope_nosub_30_deg[\"Band Distance\"],y=pope_nosub_30_deg[\"avg\"],yerr=pope_nosub_30_deg[\"std\"],xerr=2.5,label=\"POPE 303.15 K\")\n",
    "plt.errorbar(x=popg_nosub_30_deg[\"Band Distance\"],y=popg_nosub_30_deg[\"avg\"],yerr=popg_nosub_30_deg[\"std\"],xerr=2.5,label=\"POPG 303.15 K\")\n",
    "plt.errorbar(x=cdl2_nosub_37_deg[\"Band Distance\"],y=cdl2_nosub_37_deg[\"avg\"],yerr=cdl2_nosub_37_deg[\"std\"],xerr=2.5,label=\"CDL2 310.15 K\")\n",
    "plt.errorbar(x=pope_nosub_37_deg[\"Band Distance\"],y=pope_nosub_37_deg[\"avg\"],yerr=pope_nosub_37_deg[\"std\"],xerr=2.5,label=\"POPE 310.15 K\")\n",
    "plt.errorbar(x=popg_nosub_37_deg[\"Band Distance\"],y=popg_nosub_37_deg[\"avg\"],yerr=popg_nosub_37_deg[\"std\"],xerr=2.5,label=\"POPG 310.15 K\")\n",
    "plt.legend(loc='best')\n",
    "plt.title(\"Lipid Enrichment without Substrate\")\n",
    "plt.xlabel(\"Radial Distance From Protein (Angstrom)\")\n",
    "plt.ylabel(\"Enrichment\")\n",
    "plt.savefig(\"Lipid Enrichment by Temp without Substrate\", dpi=300)"
   ]
  },
  {
   "cell_type": "code",
   "execution_count": null,
   "metadata": {},
   "outputs": [],
   "source": [
    "# Plot sub vs no sub 303.15 K\n",
    "plt.errorbar(x=cdl2_sub_30_deg[\"Band Distance\"],y=cdl2_sub_30_deg[\"avg\"],yerr=cdl2_sub_30_deg[\"std\"],xerr=2.5,label=\"CDL2 Substrate\")\n",
    "plt.errorbar(x=cdl2_nosub_30_deg[\"Band Distance\"],y=cdl2_nosub_30_deg[\"avg\"],yerr=cdl2_nosub_30_deg[\"std\"],xerr=2.5,label=\"CDL2 No Substrate\")\n",
    "plt.errorbar(x=pope_sub_30_deg[\"Band Distance\"],y=pope_sub_30_deg[\"avg\"],yerr=pope_sub_30_deg[\"std\"],xerr=2.5,label=\"POPE Substrate\")\n",
    "plt.errorbar(x=pope_nosub_30_deg[\"Band Distance\"],y=pope_nosub_30_deg[\"avg\"],yerr=pope_nosub_30_deg[\"std\"],xerr=2.5,label=\"POPE No Substrate\")\n",
    "plt.errorbar(x=popg_sub_30_deg[\"Band Distance\"],y=popg_sub_30_deg[\"avg\"],yerr=popg_sub_30_deg[\"std\"],xerr=2.5,label=\"POPG Substrate\")\n",
    "plt.errorbar(x=popg_nosub_30_deg[\"Band Distance\"],y=popg_nosub_30_deg[\"avg\"],yerr=popg_nosub_30_deg[\"std\"],xerr=2.5,label=\"POPG No Substrate\")\n",
    "plt.legend(loc='best')\n",
    "plt.title(\"Lipid Enrichment Substrate vs No Substrate at 303.15 K\")\n",
    "plt.xlabel(\"Radial Distance From Protein (Angstrom)\")\n",
    "plt.ylabel(\"Enrichment\")\n",
    "plt.savefig(\"Lipid Enrichment Substrate vs No Substrate 30 Deg\", dpi=300)"
   ]
  },
  {
   "cell_type": "code",
   "execution_count": null,
   "metadata": {},
   "outputs": [],
   "source": [
    "# Plot sub vs no sub 310.15 K\n",
    "plt.errorbar(x=cdl2_sub_37_deg[\"Band Distance\"],y=cdl2_sub_37_deg[\"avg\"],yerr=cdl2_sub_37_deg[\"std\"],xerr=2.5,label=\"CDL2 Substrate\")\n",
    "plt.errorbar(x=cdl2_nosub_37_deg[\"Band Distance\"],y=cdl2_nosub_37_deg[\"avg\"],yerr=cdl2_nosub_37_deg[\"std\"],xerr=2.5,label=\"CDL2 No Substrate\")\n",
    "plt.errorbar(x=pope_sub_37_deg[\"Band Distance\"],y=pope_sub_37_deg[\"avg\"],yerr=pope_sub_37_deg[\"std\"],xerr=2.5,label=\"POPE Substrate\")\n",
    "plt.errorbar(x=pope_nosub_37_deg[\"Band Distance\"],y=pope_nosub_37_deg[\"avg\"],yerr=pope_nosub_37_deg[\"std\"],xerr=2.5,label=\"POPE No Substrate\")\n",
    "plt.errorbar(x=popg_sub_37_deg[\"Band Distance\"],y=popg_sub_37_deg[\"avg\"],yerr=popg_sub_37_deg[\"std\"],xerr=2.5,label=\"POPG Substrate\")\n",
    "plt.errorbar(x=popg_nosub_37_deg[\"Band Distance\"],y=popg_nosub_37_deg[\"avg\"],yerr=popg_nosub_37_deg[\"std\"],xerr=2.5,label=\"POPG No Substrate\")\n",
    "plt.legend(loc=9)\n",
    "plt.title(\"Lipid Enrichment Substrate vs No Substrate at 310.15 K\")\n",
    "plt.xlabel(\"Radial Distance From Protein (Angstrom)\")\n",
    "plt.ylabel(\"Enrichment\")\n",
    "plt.savefig(\"Lipid Enrichment Substrate vs No Substrate 37 Deg\", dpi=300)"
   ]
  },
  {
   "cell_type": "markdown",
   "metadata": {},
   "source": [
    "### Lipid Clustering Analysis"
   ]
  },
  {
   "cell_type": "markdown",
   "metadata": {},
   "source": [
    "Investigate lipid clustering in different domains of 6v9z from substrate vs no substrate trajectories"
   ]
  },
  {
   "cell_type": "code",
   "execution_count": null,
   "metadata": {},
   "outputs": [],
   "source": [
    "# Data import with substrate - by domain only\n",
    "lipid_clust_sub_30_deg_traj_1 = pd.read_csv(\"data/Lipid_Clustering_Counts_scaled_sub_30_deg_traj_1.csv\")\n",
    "lipid_clust_sub_30_deg_traj_2 = pd.read_csv(\"data/Lipid_Clustering_Counts_scaled_sub_30_deg_traj_2.csv\")\n",
    "lipid_clust_sub_37_deg_traj_1 = pd.read_csv(\"data/Lipid_Clustering_Counts_scaled_sub_37_deg_traj_1.csv\")\n",
    "lipid_clust_sub_37_deg_traj_2 = pd.read_csv(\"data/Lipid_Clustering_Counts_scaled_sub_37_deg_traj_2.csv\")"
   ]
  },
  {
   "cell_type": "code",
   "execution_count": null,
   "metadata": {},
   "outputs": [],
   "source": [
    "# Data import without substrate - by domain only\n",
    "lipid_clust_nosub_30_deg_traj_1 = pd.read_csv(\"data/Lipid_Clustering_Counts_scaled_nosub_30_deg_traj_1.csv\")\n",
    "lipid_clust_nosub_30_deg_traj_2 = pd.read_csv(\"data/Lipid_Clustering_Counts_scaled_nosub_30_deg_traj_2.csv\")\n",
    "lipid_clust_nosub_37_deg_traj_1 = pd.read_csv(\"data/Lipid_Clustering_Counts_scaled_nosub_37_deg_traj_1.csv\")\n",
    "lipid_clust_nosub_37_deg_traj_2 = pd.read_csv(\"data/Lipid_Clustering_Counts_scaled_nosub_37_deg_traj_2.csv\")"
   ]
  },
  {
   "cell_type": "code",
   "execution_count": null,
   "metadata": {},
   "outputs": [],
   "source": [
    "# Data import with substrate - by chain and domain\n",
    "lipid_clust_sub_30_deg_traj_1_bychain = pd.read_csv(\"data/Lipid_Clustering_Counts_by_Chain_scaled_sub_30_deg_traj_1.csv\")\n",
    "lipid_clust_sub_30_deg_traj_2_bychain = pd.read_csv(\"data/Lipid_Clustering_Counts_by_Chain_scaled_sub_30_deg_traj_2.csv\")\n",
    "lipid_clust_sub_37_deg_traj_1_bychain = pd.read_csv(\"data/Lipid_Clustering_Counts_by_Chain_scaled_sub_37_deg_traj_1.csv\")\n",
    "lipid_clust_sub_37_deg_traj_2_bychain = pd.read_csv(\"data/Lipid_Clustering_Counts_by_Chain_scaled_sub_37_deg_traj_2.csv\")"
   ]
  },
  {
   "cell_type": "code",
   "execution_count": null,
   "metadata": {},
   "outputs": [],
   "source": [
    "# Data import without substrate - by chain and domain\n",
    "lipid_clust_nosub_30_deg_traj_1_bychain = pd.read_csv(\"data/Lipid_Clustering_Counts_by_Chain_scaled_nosub_30_deg_traj_1.csv\")\n",
    "lipid_clust_nosub_30_deg_traj_2_bychain = pd.read_csv(\"data/Lipid_Clustering_Counts_by_Chain_scaled_nosub_30_deg_traj_2.csv\")\n",
    "lipid_clust_nosub_37_deg_traj_1_bychain = pd.read_csv(\"data/Lipid_Clustering_Counts_by_Chain_scaled_nosub_37_deg_traj_1.csv\")\n",
    "lipid_clust_nosub_37_deg_traj_2_bychain = pd.read_csv(\"data/Lipid_Clustering_Counts_by_Chain_scaled_nosub_37_deg_traj_2.csv\")"
   ]
  },
  {
   "cell_type": "code",
   "execution_count": null,
   "metadata": {},
   "outputs": [],
   "source": [
    "# Combine temps as well & concat\n",
    "lipid_clust_sub = pd.concat([lipid_clust_sub_30_deg_traj_1,lipid_clust_sub_30_deg_traj_2,lipid_clust_sub_37_deg_traj_1,lipid_clust_sub_37_deg_traj_2],ignore_index=True)\n",
    "lipid_clust_nosub = pd.concat([lipid_clust_nosub_30_deg_traj_1,lipid_clust_nosub_30_deg_traj_2,lipid_clust_nosub_37_deg_traj_1,lipid_clust_nosub_37_deg_traj_2],ignore_index=True)"
   ]
  },
  {
   "cell_type": "code",
   "execution_count": null,
   "metadata": {},
   "outputs": [],
   "source": [
    "# Combine temps as well & concat - by chain\n",
    "lipid_clust_sub_bychain = pd.concat([lipid_clust_sub_30_deg_traj_1_bychain,lipid_clust_sub_30_deg_traj_2_bychain,lipid_clust_sub_37_deg_traj_1_bychain,lipid_clust_sub_37_deg_traj_2_bychain],ignore_index=True)\n",
    "lipid_clust_nosub_bychain = pd.concat([lipid_clust_nosub_30_deg_traj_1_bychain,lipid_clust_nosub_30_deg_traj_2_bychain,lipid_clust_nosub_37_deg_traj_1_bychain,lipid_clust_nosub_37_deg_traj_2_bychain],ignore_index=True)"
   ]
  },
  {
   "cell_type": "code",
   "execution_count": null,
   "metadata": {},
   "outputs": [],
   "source": [
    "# Reset index to remove multi-indexing for combined temps\n",
    "lipid_clust_sub.reset_index(inplace = True)\n",
    "lipid_clust_nosub.reset_index(inplace = True)"
   ]
  },
  {
   "cell_type": "code",
   "execution_count": null,
   "metadata": {},
   "outputs": [],
   "source": [
    "# Reset index to remove multi-indexing for combined temps - by domain & chain\n",
    "lipid_clust_sub_bychain.reset_index(inplace = True)\n",
    "lipid_clust_nosub_bychain.reset_index(inplace = True)"
   ]
  },
  {
   "cell_type": "code",
   "execution_count": null,
   "metadata": {},
   "outputs": [],
   "source": [
    "# Add in substrate info\n",
    "lipid_clust_sub[\"Substrate\"] = \"yes\"\n",
    "lipid_clust_nosub[\"Substrate\"] = \"no\""
   ]
  },
  {
   "cell_type": "code",
   "execution_count": null,
   "metadata": {},
   "outputs": [],
   "source": [
    "# Add in substrate info - by domain & chain\n",
    "lipid_clust_sub_bychain[\"Substrate\"] = \"yes\"\n",
    "lipid_clust_nosub_bychain[\"Substrate\"] = \"no\""
   ]
  },
  {
   "cell_type": "code",
   "execution_count": null,
   "metadata": {},
   "outputs": [],
   "source": [
    "# Concat sub and no sub for plotting\n",
    "lipid_clust = pd.concat([lipid_clust_sub,lipid_clust_nosub])"
   ]
  },
  {
   "cell_type": "code",
   "execution_count": null,
   "metadata": {},
   "outputs": [],
   "source": [
    "# Concat sub and no sub for plotting - by domain & chain\n",
    "lipid_clust_bychain = pd.concat([lipid_clust_sub_bychain,lipid_clust_nosub_bychain])"
   ]
  },
  {
   "cell_type": "code",
   "execution_count": null,
   "metadata": {},
   "outputs": [],
   "source": [
    "# Add label for seaborn plot\n",
    "lipid_clust[\"Label\"] = lipid_clust[\"Substrate\"].astype(str) + \" \" + lipid_clust[\"Lipid\"].astype(str)"
   ]
  },
  {
   "cell_type": "code",
   "execution_count": null,
   "metadata": {},
   "outputs": [],
   "source": [
    "# Add label for seaborn plot - by domain & chain\n",
    "lipid_clust_bychain[\"Label\"] = lipid_clust_bychain[\"Substrate\"].astype(str) + \" \" + lipid_clust_bychain[\"Lipid\"].astype(str)"
   ]
  },
  {
   "cell_type": "markdown",
   "metadata": {},
   "source": [
    "#### Plots"
   ]
  },
  {
   "cell_type": "code",
   "execution_count": null,
   "metadata": {},
   "outputs": [],
   "source": [
    "fig_dims = (30, 10)\n",
    "fig, ax = plt.subplots(figsize=fig_dims)\n",
    "clust_fig_label = sns.barplot(data=lipid_clust, x='Domain', y='Scaled_Median_Count', hue='Label',estimator=np.mean,ci=90).get_figure();\n",
    "clust_fig_label.savefig(\"Lipid Clustering\", dpi=300)"
   ]
  },
  {
   "cell_type": "code",
   "execution_count": null,
   "metadata": {},
   "outputs": [],
   "source": [
    "fig_dims = (30, 10)\n",
    "fig, ax = plt.subplots(figsize=fig_dims)\n",
    "clust_fig = sns.barplot(data=lipid_clust, x='Domain', y='Scaled_Median_Count', hue='Substrate',estimator=np.mean,ci=90).get_figure();\n",
    "clust_fig.savefig(\"Lipid Clustering by substrate\", dpi=300)"
   ]
  },
  {
   "cell_type": "code",
   "execution_count": null,
   "metadata": {},
   "outputs": [],
   "source": [
    "fig_dims = (30, 10)\n",
    "fig, ax = plt.subplots(figsize=fig_dims)\n",
    "clust_fig_bychain = sns.barplot(data=lipid_clust_bychain, x='Domain', y='Scaled_Median_Count', hue='Substrate',estimator=np.mean,ci=90).get_figure();\n",
    "clust_fig_bychain.savefig(\"Lipid Clustering by substrate and chain\", dpi=300)"
   ]
  },
  {
   "cell_type": "code",
   "execution_count": null,
   "metadata": {},
   "outputs": [],
   "source": [
    "fig_dims = (30, 10)\n",
    "fig, ax = plt.subplots(figsize=fig_dims)\n",
    "clust_fig_bychain_label = sns.barplot(data=lipid_clust_bychain, x='Domain', y='Scaled_Median_Count', hue='Label',estimator=np.mean,ci=90).get_figure();\n",
    "clust_fig_bychain_label.savefig(\"Lipid Clustering by chain\", dpi=300)"
   ]
  },
  {
   "cell_type": "markdown",
   "metadata": {},
   "source": [
    "### Permutation Test - Lipid Clustering"
   ]
  },
  {
   "cell_type": "markdown",
   "metadata": {},
   "source": [
    "Test permutation test against my data & see differences in the output distributions."
   ]
  },
  {
   "cell_type": "code",
   "execution_count": null,
   "metadata": {},
   "outputs": [],
   "source": [
    "# Extract values for the test separated by substrate and no substrate\n",
    "perm_sub_clust, perm_nosub_clust = extract_sub_vals_clust(lipid_clust_bychain)"
   ]
  },
  {
   "cell_type": "code",
   "execution_count": null,
   "metadata": {},
   "outputs": [],
   "source": [
    "#Get permutation test distribution for substrate vs no substrate lipid clustering\n",
    "pooled = np.hstack([perm_sub_clust,perm_nosub_clust])\n",
    "sizeA = 95\n",
    "sizeB= 95\n",
    "iterations = 1000000\n",
    "test = permutation(pooled,sizeA,sizeB,iterations)"
   ]
  },
  {
   "cell_type": "code",
   "execution_count": null,
   "metadata": {},
   "outputs": [],
   "source": [
    "#Plot permutation test histogram\n",
    "plt.hist(test,bins=100);\n",
    "plt.title(\"Permutation Test Substrate vs No Substrate\")\n",
    "plt.xlabel(\"Mean Difference\")\n",
    "plt.ylabel(\"Frequency\");\n",
    "plt.savefig(\"Permutation Test Sub vs No Sub Lipid Clustering\", dpi=150)"
   ]
  },
  {
   "cell_type": "code",
   "execution_count": null,
   "metadata": {},
   "outputs": [],
   "source": [
    "#Calculate p-values using permutation test distribution\n",
    "p_val_clust_perm = p_val(diff_lipid_clust,iterations,test)"
   ]
  },
  {
   "cell_type": "code",
   "execution_count": null,
   "metadata": {},
   "outputs": [],
   "source": [
    "#Convert p-values to series for saving\n",
    "p_val_clust_perm_series = pd.Series(p_val_clust_perm, name='uncorrected p-value')\n",
    "p_val_clust_perm_series.index.name = \"Domain\"\n",
    "p_val_clust_perm_series.reset_index()"
   ]
  },
  {
   "cell_type": "code",
   "execution_count": null,
   "metadata": {},
   "outputs": [],
   "source": [
    "#save p-values!\n",
    "p_val_clust_perm_series.to_csv('Lipid clustering permutation p-values.csv')"
   ]
  },
  {
   "cell_type": "code",
   "execution_count": null,
   "metadata": {},
   "outputs": [],
   "source": [
    "#Filter for significant p-values for CDL2 preference\n",
    "perm_clust_p_val_sig = sig_p_val(p_val_clust_perm,0.05)"
   ]
  },
  {
   "cell_type": "markdown",
   "metadata": {},
   "source": [
    "5 regions which show significant differences (1% sig level) when substrate is present & not present based on the permutation test (p-vals are corrected):\n",
    "\n",
    "Chain A Transmembrane Top: CDL2 --> p-val 0\\\n",
    "Chain A Transmembrane Top: POPE --> p-val 0\\\n",
    "Chain B Substrate Entrance Channel: POPE --> p-val 0.000003\\\n",
    "Chain B Transmembrane Top: CDL2 --> p-val 0\\\n",
    "Chain B Transmembrane Top: POPE --> p-val 0\n",
    "\n",
    "7 regions which show significant differences (5% sig level) when substrate is present & not present based on the permutation test (p-vals are corrected):\n",
    "\n",
    "Chain A Transmembrane Arm: CDL2 --> p-val 0.00143\\\n",
    "Chain A Transmembrane Top: CDL2 --> p-val 0\\\n",
    "Chain A Transmembrane Top: POPE --> p-val 0\\\n",
    "Chain A Transmembrane Top: POPG --> p-val 0.001079\\\n",
    "Chain B Substrate Entrance Channel: POPE --> p-val 0.000003\\\n",
    "Chain B Transmembrane Top: CDL2 --> p-val 0\\\n",
    "Chain B Transmembrane Top: POPE --> p-val 0"
   ]
  },
  {
   "cell_type": "markdown",
   "metadata": {},
   "source": [
    "These lipids are depleted when the substrate is present."
   ]
  },
  {
   "cell_type": "markdown",
   "metadata": {},
   "source": [
    "## SASA Analysis"
   ]
  },
  {
   "cell_type": "code",
   "execution_count": null,
   "metadata": {},
   "outputs": [],
   "source": [
    "# Chain A 30 degrees\n",
    "chain_A_traj_1_sub_30_deg_x,chain_A_traj_1_sub_30_deg_y = np.loadtxt(\"data/Traj_1_Sub_30_deg_Chain_A_PEP_sasa.xvg\",comments=[\"@\",\"#\"],unpack=True)\n",
    "chain_A_traj_2_sub_30_deg_x,chain_A_traj_2_sub_30_deg_y = np.loadtxt(\"data/Traj_2_Sub_30_deg_Chain_A_PEP_sasa.xvg\",comments=[\"@\",\"#\"],unpack=True)\n",
    "chain_A_traj_1_nosub_30_deg_x,chain_A_traj_1_nosub_30_deg_y = np.loadtxt(\"data/Traj_1_NoSub_30_deg_Chain_A_PEP_sasa.xvg\",comments=[\"@\",\"#\"],unpack=True)\n",
    "chain_A_traj_2_nosub_30_deg_x,chain_A_traj_2_nosub_30_deg_y = np.loadtxt(\"data/Traj_2_NoSub_30_deg_Chain_A_PEP_sasa.xvg\",comments=[\"@\",\"#\"],unpack=True)"
   ]
  },
  {
   "cell_type": "code",
   "execution_count": null,
   "metadata": {},
   "outputs": [],
   "source": [
    "# Chain B 30 degrees\n",
    "chain_B_traj_1_sub_30_deg_x,chain_B_traj_1_sub_30_deg_y = np.loadtxt(\"data/Traj_1_Sub_30_deg_Chain_B_PEP_sasa.xvg\",comments=[\"@\",\"#\"],unpack=True)\n",
    "chain_B_traj_2_sub_30_deg_x,chain_B_traj_2_sub_30_deg_y = np.loadtxt(\"data/Traj_2_Sub_30_deg_Chain_B_PEP_sasa.xvg\",comments=[\"@\",\"#\"],unpack=True)\n",
    "chain_B_traj_1_nosub_30_deg_x,chain_B_traj_1_nosub_30_deg_y = np.loadtxt(\"data/Traj_1_NoSub_30_deg_Chain_B_PEP_sasa.xvg\",comments=[\"@\",\"#\"],unpack=True)\n",
    "chain_B_traj_2_nosub_30_deg_x,chain_B_traj_2_nosub_30_deg_y = np.loadtxt(\"data/Traj_2_NoSub_30_deg_Chain_B_PEP_sasa.xvg\",comments=[\"@\",\"#\"],unpack=True)"
   ]
  },
  {
   "cell_type": "code",
   "execution_count": null,
   "metadata": {},
   "outputs": [],
   "source": [
    "# Chain A 37 degrees\n",
    "chain_A_traj_1_sub_37_deg_x,chain_A_traj_1_sub_37_deg_y = np.loadtxt(\"data/Traj_1_Sub_37_deg_Chain_A_PEP_sasa.xvg\",comments=[\"@\",\"#\"],unpack=True)\n",
    "chain_A_traj_2_sub_37_deg_x,chain_A_traj_2_sub_37_deg_y = np.loadtxt(\"data/Traj_2_Sub_37_deg_Chain_A_PEP_sasa.xvg\",comments=[\"@\",\"#\"],unpack=True)\n",
    "chain_A_traj_1_nosub_37_deg_x,chain_A_traj_1_nosub_37_deg_y = np.loadtxt(\"data/Traj_1_NoSub_37_deg_Chain_A_PEP_sasa.xvg\",comments=[\"@\",\"#\"],unpack=True)\n",
    "chain_A_traj_2_nosub_37_deg_x,chain_A_traj_2_nosub_37_deg_y = np.loadtxt(\"data/Traj_2_NoSub_37_deg_Chain_A_PEP_sasa.xvg\",comments=[\"@\",\"#\"],unpack=True)"
   ]
  },
  {
   "cell_type": "code",
   "execution_count": null,
   "metadata": {},
   "outputs": [],
   "source": [
    "# Chain B 37 degrees\n",
    "chain_B_traj_1_sub_37_deg_x,chain_B_traj_1_sub_37_deg_y = np.loadtxt(\"data/Traj_1_Sub_37_deg_Chain_B_PEP_sasa.xvg\",comments=[\"@\",\"#\"],unpack=True)\n",
    "chain_B_traj_2_sub_37_deg_x,chain_B_traj_2_sub_37_deg_y = np.loadtxt(\"data/Traj_2_Sub_37_deg_Chain_B_PEP_sasa.xvg\",comments=[\"@\",\"#\"],unpack=True)\n",
    "chain_B_traj_1_nosub_37_deg_x,chain_B_traj_1_nosub_37_deg_y = np.loadtxt(\"data/Traj_1_NoSub_37_deg_Chain_B_PEP_sasa.xvg\",comments=[\"@\",\"#\"],unpack=True)\n",
    "chain_B_traj_2_nosub_37_deg_x,chain_B_traj_2_nosub_37_deg_y = np.loadtxt(\"data/Traj_2_NoSub_37_deg_Chain_B_PEP_sasa.xvg\",comments=[\"@\",\"#\"],unpack=True)"
   ]
  },
  {
   "cell_type": "code",
   "execution_count": null,
   "metadata": {},
   "outputs": [],
   "source": [
    "# Chain A 30 degrees data dicts\n",
    "d_traj_1_chain_A_sub_30_deg = {\"Time(ns)\":chain_A_traj_1_sub_30_deg_x,'Area':chain_A_traj_1_sub_30_deg_y}\n",
    "d_traj_2_chain_A_sub_30_deg = {\"Time(ns)\":chain_A_traj_1_sub_30_deg_x,'Area':chain_A_traj_1_sub_30_deg_y}\n",
    "d_traj_1_chain_A_nosub_30_deg = {\"Time(ns)\":chain_A_traj_1_nosub_30_deg_x,'Area':chain_A_traj_1_nosub_30_deg_y}\n",
    "d_traj_2_chain_A_nosub_30_deg = {\"Time(ns)\":chain_A_traj_1_nosub_30_deg_x,'Area':chain_A_traj_1_nosub_30_deg_y}"
   ]
  },
  {
   "cell_type": "code",
   "execution_count": null,
   "metadata": {},
   "outputs": [],
   "source": [
    "# Chain B 30 degrees data dicts\n",
    "d_traj_1_chain_B_sub_30_deg = {\"Time(ns)\":chain_B_traj_1_sub_30_deg_x,'Area':chain_B_traj_1_sub_30_deg_y}\n",
    "d_traj_2_chain_B_sub_30_deg = {\"Time(ns)\":chain_B_traj_1_sub_30_deg_x,'Area':chain_B_traj_1_sub_30_deg_y}\n",
    "d_traj_1_chain_B_nosub_30_deg = {\"Time(ns)\":chain_B_traj_1_nosub_30_deg_x,'Area':chain_B_traj_1_nosub_30_deg_y}\n",
    "d_traj_2_chain_B_nosub_30_deg = {\"Time(ns)\":chain_B_traj_1_nosub_30_deg_x,'Area':chain_B_traj_1_nosub_30_deg_y}"
   ]
  },
  {
   "cell_type": "code",
   "execution_count": null,
   "metadata": {},
   "outputs": [],
   "source": [
    "# Chain A 37 degrees data dicts\n",
    "d_traj_1_chain_A_sub_37_deg = {\"Time(ns)\":chain_A_traj_1_sub_37_deg_x,'Area':chain_A_traj_1_sub_37_deg_y}\n",
    "d_traj_2_chain_A_sub_37_deg = {\"Time(ns)\":chain_A_traj_1_sub_37_deg_x,'Area':chain_A_traj_1_sub_37_deg_y}\n",
    "d_traj_1_chain_A_nosub_37_deg = {\"Time(ns)\":chain_A_traj_1_nosub_37_deg_x,'Area':chain_A_traj_1_nosub_37_deg_y}\n",
    "d_traj_2_chain_A_nosub_37_deg = {\"Time(ns)\":chain_A_traj_1_nosub_37_deg_x,'Area':chain_A_traj_1_nosub_37_deg_y}"
   ]
  },
  {
   "cell_type": "code",
   "execution_count": null,
   "metadata": {},
   "outputs": [],
   "source": [
    "# Chain B 37 degrees data dicts\n",
    "d_traj_1_chain_B_sub_37_deg = {\"Time(ns)\":chain_B_traj_1_sub_37_deg_x,'Area':chain_B_traj_1_sub_37_deg_y}\n",
    "d_traj_2_chain_B_sub_37_deg = {\"Time(ns)\":chain_B_traj_1_sub_37_deg_x,'Area':chain_B_traj_1_sub_37_deg_y}\n",
    "d_traj_1_chain_B_nosub_37_deg = {\"Time(ns)\":chain_B_traj_1_nosub_37_deg_x,'Area':chain_B_traj_1_nosub_37_deg_y}\n",
    "d_traj_2_chain_B_nosub_37_deg = {\"Time(ns)\":chain_B_traj_1_nosub_37_deg_x,'Area':chain_B_traj_1_nosub_37_deg_y}"
   ]
  },
  {
   "cell_type": "code",
   "execution_count": null,
   "metadata": {},
   "outputs": [],
   "source": [
    "# Chain A 30 degrees dataframes from dicts\n",
    "traj_1_chain_A_sub_30_deg = pd.DataFrame(d_traj_1_chain_A_sub_30_deg)\n",
    "traj_2_chain_A_sub_30_deg = pd.DataFrame(d_traj_2_chain_A_sub_30_deg)\n",
    "traj_1_chain_A_nosub_30_deg = pd.DataFrame(d_traj_1_chain_A_nosub_30_deg)\n",
    "traj_2_chain_A_nosub_30_deg = pd.DataFrame(d_traj_2_chain_A_nosub_30_deg)"
   ]
  },
  {
   "cell_type": "code",
   "execution_count": null,
   "metadata": {},
   "outputs": [],
   "source": [
    "# Chain B 30 degrees dataframes from dicts\n",
    "traj_1_chain_B_sub_30_deg = pd.DataFrame(d_traj_1_chain_B_sub_30_deg)\n",
    "traj_2_chain_B_sub_30_deg = pd.DataFrame(d_traj_2_chain_B_sub_30_deg)\n",
    "traj_1_chain_B_nosub_30_deg = pd.DataFrame(d_traj_1_chain_B_nosub_30_deg)\n",
    "traj_2_chain_B_nosub_30_deg = pd.DataFrame(d_traj_2_chain_B_nosub_30_deg)"
   ]
  },
  {
   "cell_type": "code",
   "execution_count": null,
   "metadata": {},
   "outputs": [],
   "source": [
    "# Chain A 37 degrees dataframes from dicts\n",
    "traj_1_chain_A_sub_37_deg = pd.DataFrame(d_traj_1_chain_A_sub_37_deg)\n",
    "traj_2_chain_A_sub_37_deg = pd.DataFrame(d_traj_2_chain_A_sub_37_deg)\n",
    "traj_1_chain_A_nosub_37_deg = pd.DataFrame(d_traj_1_chain_A_nosub_37_deg)\n",
    "traj_2_chain_A_nosub_37_deg = pd.DataFrame(d_traj_2_chain_A_nosub_37_deg)"
   ]
  },
  {
   "cell_type": "code",
   "execution_count": null,
   "metadata": {},
   "outputs": [],
   "source": [
    "# Chain B 37 degrees dataframes from dicts\n",
    "traj_1_chain_B_sub_37_deg = pd.DataFrame(d_traj_1_chain_B_sub_37_deg)\n",
    "traj_2_chain_B_sub_37_deg = pd.DataFrame(d_traj_2_chain_B_sub_37_deg)\n",
    "traj_1_chain_B_nosub_37_deg = pd.DataFrame(d_traj_1_chain_B_nosub_37_deg)\n",
    "traj_2_chain_B_nosub_37_deg = pd.DataFrame(d_traj_2_chain_B_nosub_37_deg)"
   ]
  },
  {
   "cell_type": "code",
   "execution_count": null,
   "metadata": {},
   "outputs": [],
   "source": [
    "# Chain A 30 degrees aggregate by trajectory\n",
    "chain_A_sub_30_deg = pd.concat([traj_1_chain_A_sub_30_deg,\n",
    "                               traj_2_chain_A_sub_30_deg]).groupby('Time(ns)').agg(avg=('Area','mean'))\n",
    "chain_A_nosub_30_deg = pd.concat([traj_1_chain_A_nosub_30_deg,\n",
    "                               traj_2_chain_A_nosub_30_deg]).groupby('Time(ns)').agg(avg=('Area','mean'))"
   ]
  },
  {
   "cell_type": "code",
   "execution_count": null,
   "metadata": {},
   "outputs": [],
   "source": [
    "# Chain B 30 degrees aggregate by trajectory\n",
    "chain_B_sub_30_deg = pd.concat([traj_1_chain_B_sub_30_deg,\n",
    "                               traj_2_chain_B_sub_30_deg]).groupby('Time(ns)').agg(avg=('Area','mean'))\n",
    "chain_B_nosub_30_deg = pd.concat([traj_1_chain_B_nosub_30_deg,\n",
    "                               traj_2_chain_B_nosub_30_deg]).groupby('Time(ns)').agg(avg=('Area','mean'))"
   ]
  },
  {
   "cell_type": "code",
   "execution_count": null,
   "metadata": {},
   "outputs": [],
   "source": [
    "# Chain A 37 degrees aggregate by trajectory\n",
    "chain_A_sub_37_deg = pd.concat([traj_1_chain_A_sub_37_deg,\n",
    "                               traj_2_chain_A_sub_37_deg]).groupby('Time(ns)').agg(avg=('Area','mean'))\n",
    "chain_A_nosub_37_deg = pd.concat([traj_1_chain_A_nosub_37_deg,\n",
    "                               traj_2_chain_A_nosub_37_deg]).groupby('Time(ns)').agg(avg=('Area','mean'))"
   ]
  },
  {
   "cell_type": "code",
   "execution_count": null,
   "metadata": {},
   "outputs": [],
   "source": [
    "# Chain B 37 degrees aggregate by trajectory\n",
    "chain_B_sub_37_deg = pd.concat([traj_1_chain_B_sub_37_deg,\n",
    "                               traj_2_chain_B_sub_37_deg]).groupby('Time(ns)').agg(avg=('Area','mean'))\n",
    "chain_B_nosub_37_deg = pd.concat([traj_1_chain_B_nosub_37_deg,\n",
    "                               traj_2_chain_B_nosub_37_deg]).groupby('Time(ns)').agg(avg=('Area','mean'))"
   ]
  },
  {
   "cell_type": "code",
   "execution_count": null,
   "metadata": {},
   "outputs": [],
   "source": [
    "# Aggregate by temp - chain A\n",
    "chain_A_sub = pd.concat([traj_1_chain_A_sub_30_deg,traj_2_chain_A_sub_30_deg,\n",
    "                         traj_1_chain_A_sub_37_deg,traj_2_chain_A_sub_37_deg]).groupby('Time(ns)').agg(avg=('Area','mean'),std=('Area','std'))\n",
    "chain_A_nosub = pd.concat([traj_1_chain_A_nosub_30_deg,traj_2_chain_A_nosub_30_deg,\n",
    "                         traj_1_chain_A_nosub_37_deg,traj_2_chain_A_nosub_37_deg]).groupby('Time(ns)').agg(avg=('Area','mean'),std=('Area','std'))"
   ]
  },
  {
   "cell_type": "code",
   "execution_count": null,
   "metadata": {},
   "outputs": [],
   "source": [
    "# Aggregate by temp - chain B\n",
    "chain_B_sub = pd.concat([traj_1_chain_B_sub_30_deg,traj_2_chain_B_sub_30_deg,\n",
    "                         traj_1_chain_B_sub_37_deg,traj_2_chain_B_sub_37_deg]).groupby('Time(ns)').agg(avg=('Area','mean'),std=('Area','std'))\n",
    "chain_B_nosub = pd.concat([traj_1_chain_B_nosub_30_deg,traj_2_chain_B_nosub_30_deg,\n",
    "                         traj_1_chain_B_nosub_37_deg,traj_2_chain_B_nosub_37_deg]).groupby('Time(ns)').agg(avg=('Area','mean'),std=('Area','std'))"
   ]
  },
  {
   "cell_type": "code",
   "execution_count": null,
   "metadata": {},
   "outputs": [],
   "source": [
    "#Reset index to remove multi-indexing - Chain A 30 degrees\n",
    "chain_A_sub_30_deg.reset_index(inplace = True)\n",
    "chain_A_nosub_30_deg.reset_index(inplace = True)"
   ]
  },
  {
   "cell_type": "code",
   "execution_count": null,
   "metadata": {},
   "outputs": [],
   "source": [
    "#Reset index to remove multi-indexing - Chain B 30 degrees\n",
    "chain_B_sub_30_deg.reset_index(inplace = True)\n",
    "chain_B_nosub_30_deg.reset_index(inplace = True)"
   ]
  },
  {
   "cell_type": "code",
   "execution_count": null,
   "metadata": {},
   "outputs": [],
   "source": [
    "#Reset index to remove multi-indexing - Chain A 37 degrees\n",
    "chain_A_sub_37_deg.reset_index(inplace = True)\n",
    "chain_A_nosub_37_deg.reset_index(inplace = True)"
   ]
  },
  {
   "cell_type": "code",
   "execution_count": null,
   "metadata": {},
   "outputs": [],
   "source": [
    "#Reset index to remove multi-indexing - Chain B 37 degrees\n",
    "chain_B_sub_37_deg.reset_index(inplace = True)\n",
    "chain_B_nosub_37_deg.reset_index(inplace = True)"
   ]
  },
  {
   "cell_type": "code",
   "execution_count": null,
   "metadata": {},
   "outputs": [],
   "source": [
    "#Reset index to remove multi-indexing - Chain A\n",
    "chain_A_sub.reset_index(inplace = True)\n",
    "chain_A_nosub.reset_index(inplace = True)"
   ]
  },
  {
   "cell_type": "code",
   "execution_count": null,
   "metadata": {},
   "outputs": [],
   "source": [
    "#Reset index to remove multi-indexing - Chain B\n",
    "chain_B_sub.reset_index(inplace = True)\n",
    "chain_B_nosub.reset_index(inplace = True)"
   ]
  },
  {
   "cell_type": "code",
   "execution_count": null,
   "metadata": {},
   "outputs": [],
   "source": [
    "# Calulate rolling average - Chain A 30 degrees\n",
    "chain_A_sub_30_deg_rolling = chain_A_sub_30_deg[\"avg\"].rolling(window=1000,center=True).mean()\n",
    "chain_A_nosub_30_deg_rolling = chain_A_nosub_30_deg[\"avg\"].rolling(window=1000,center=True).mean()"
   ]
  },
  {
   "cell_type": "code",
   "execution_count": null,
   "metadata": {},
   "outputs": [],
   "source": [
    "# Calulate rolling average - Chain B 30 degrees\n",
    "chain_B_sub_30_deg_rolling = chain_B_sub_30_deg[\"avg\"].rolling(window=1000,center=True).mean()\n",
    "chain_B_nosub_30_deg_rolling = chain_B_nosub_30_deg[\"avg\"].rolling(window=1000,center=True).mean()"
   ]
  },
  {
   "cell_type": "code",
   "execution_count": null,
   "metadata": {},
   "outputs": [],
   "source": [
    "# Calulate rolling average - Chain A 37 degrees\n",
    "chain_A_sub_37_deg_rolling = chain_A_sub_37_deg[\"avg\"].rolling(window=1000,center=True).mean()\n",
    "chain_A_nosub_37_deg_rolling = chain_A_nosub_37_deg[\"avg\"].rolling(window=1000,center=True).mean()"
   ]
  },
  {
   "cell_type": "code",
   "execution_count": null,
   "metadata": {},
   "outputs": [],
   "source": [
    "# Calulate rolling average - Chain B 37 degrees\n",
    "chain_B_sub_37_deg_rolling = chain_B_sub_37_deg[\"avg\"].rolling(window=1000,center=True).mean()\n",
    "chain_B_nosub_37_deg_rolling = chain_B_nosub_37_deg[\"avg\"].rolling(window=1000,center=True).mean()"
   ]
  },
  {
   "cell_type": "code",
   "execution_count": null,
   "metadata": {},
   "outputs": [],
   "source": [
    "# Calulate rolling average - Chain A\n",
    "chain_A_sub_rolling = chain_A_sub[\"avg\"].rolling(window=1000,center=True).mean()\n",
    "chain_A_nosub_rolling = chain_A_nosub[\"avg\"].rolling(window=1000,center=True).mean()"
   ]
  },
  {
   "cell_type": "code",
   "execution_count": null,
   "metadata": {},
   "outputs": [],
   "source": [
    "# Calulate rolling average - Chain A\n",
    "chain_B_sub_rolling = chain_B_sub[\"avg\"].rolling(window=1000,center=True).mean()\n",
    "chain_B_nosub_rolling = chain_B_nosub[\"avg\"].rolling(window=1000,center=True).mean()"
   ]
  },
  {
   "cell_type": "code",
   "execution_count": null,
   "metadata": {},
   "outputs": [],
   "source": [
    "# Plot results - Chain A 30 degrees\n",
    "plt.errorbar(x=chain_A_sub_30_deg[\"Time(ns)\"],y=chain_A_sub_30_deg[\"avg\"],label=\"Substrate 303.15 K\")\n",
    "plt.errorbar(x=chain_A_nosub_30_deg[\"Time(ns)\"],y=chain_A_nosub_30_deg[\"avg\"],label=\"No Substrate 303.15 K\")\n",
    "plt.errorbar(x=chain_A_sub_30_deg[\"Time(ns)\"],y=chain_A_sub_30_deg_rolling,label=\"Rolling Average Substrate\")\n",
    "plt.errorbar(x=chain_A_nosub_30_deg[\"Time(ns)\"],y=chain_A_nosub_30_deg_rolling,label=\"Rolling Average No Substrate\")\n",
    "plt.legend(loc='best')\n",
    "plt.title(\"Chain A Solvent Accessible Surface Area\")\n",
    "plt.xlabel(\"Time (ns)\")\n",
    "plt.ylabel(\"Area ($nm^2$)\")\n",
    "plt.savefig(\"Chain A SASA Sub vs No Sub 303.15 K labels.png\", dpi=300)"
   ]
  },
  {
   "cell_type": "code",
   "execution_count": null,
   "metadata": {},
   "outputs": [],
   "source": [
    "# Plot results - Chain B 30 degrees\n",
    "plt.errorbar(x=chain_B_sub_30_deg[\"Time(ns)\"],y=chain_B_sub_30_deg[\"avg\"],label=\"Substrate 303.15 K\")\n",
    "plt.errorbar(x=chain_B_nosub_30_deg[\"Time(ns)\"],y=chain_B_nosub_30_deg[\"avg\"],label=\"No Substrate 303.15 K\")\n",
    "plt.errorbar(x=chain_B_sub_30_deg[\"Time(ns)\"],y=chain_B_sub_30_deg_rolling,label=\"Rolling Average Substrate\")\n",
    "plt.errorbar(x=chain_B_nosub_30_deg[\"Time(ns)\"],y=chain_B_nosub_30_deg_rolling,label=\"Rolling Average No Substrate\")\n",
    "plt.legend(loc='best')\n",
    "plt.title(\"Chain B Solvent Accessible Surface Area\")\n",
    "plt.xlabel(\"Time (ns)\")\n",
    "plt.ylabel(\"Area ($nm^2$)\")\n",
    "plt.savefig(\"Chain B SASA Sub vs No Sub 303.15 K labels.png\", dpi=300)"
   ]
  },
  {
   "cell_type": "code",
   "execution_count": null,
   "metadata": {},
   "outputs": [],
   "source": [
    "# Plot results - Chain A 37 degrees\n",
    "plt.errorbar(x=chain_A_sub_37_deg[\"Time(ns)\"],y=chain_A_sub_37_deg[\"avg\"],label=\"Substrate 310.15 K\")\n",
    "plt.errorbar(x=chain_A_nosub_37_deg[\"Time(ns)\"],y=chain_A_nosub_37_deg[\"avg\"],label=\"No Substrate 310.15 K\")\n",
    "plt.errorbar(x=chain_A_sub_37_deg[\"Time(ns)\"],y=chain_A_sub_37_deg_rolling,label=\"Rolling Average Substrate\")\n",
    "plt.errorbar(x=chain_A_nosub_37_deg[\"Time(ns)\"],y=chain_A_nosub_37_deg_rolling,label=\"Rolling Average No Substrate\")\n",
    "plt.legend(loc='best')\n",
    "plt.title(\"Chain A Solvent Accessible Surface Area\")\n",
    "plt.xlabel(\"Time (ns)\")\n",
    "plt.ylabel(\"Area ($nm^2$)\")\n",
    "plt.savefig(\"Chain A SASA Sub vs No Sub 310.15 K labels.png\", dpi=300)"
   ]
  },
  {
   "cell_type": "code",
   "execution_count": null,
   "metadata": {},
   "outputs": [],
   "source": [
    "# Plot results - Chain B 37 degrees\n",
    "plt.errorbar(x=chain_B_sub_37_deg[\"Time(ns)\"],y=chain_B_sub_37_deg[\"avg\"],label=\"Substrate 310.15 K\")\n",
    "plt.errorbar(x=chain_B_nosub_37_deg[\"Time(ns)\"],y=chain_B_nosub_37_deg[\"avg\"],label=\"No Substrate 310.15 K\")\n",
    "plt.errorbar(x=chain_B_sub_37_deg[\"Time(ns)\"],y=chain_B_sub_37_deg_rolling,label=\"Rolling Average Substrate\")\n",
    "plt.errorbar(x=chain_B_nosub_37_deg[\"Time(ns)\"],y=chain_B_nosub_37_deg_rolling,label=\"Rolling Average No Substrate\")\n",
    "plt.legend(loc='best')\n",
    "plt.title(\"Chain B Solvent Accessible Surface Area\")\n",
    "plt.xlabel(\"Time (ns)\")\n",
    "plt.ylabel(\"Area ($nm^2$)\")\n",
    "plt.savefig(\"Chain B SASA Sub vs No Sub 310.15 K labels.png\", dpi=300)"
   ]
  },
  {
   "cell_type": "code",
   "execution_count": null,
   "metadata": {},
   "outputs": [],
   "source": [
    "# Plot results - Chain A\n",
    "plt.errorbar(x=chain_A_sub[\"Time(ns)\"],y=chain_A_sub[\"avg\"],yerr=chain_A_sub['std'],label=\"Substrate\")\n",
    "plt.errorbar(x=chain_A_nosub[\"Time(ns)\"],y=chain_A_nosub[\"avg\"],yerr=chain_A_nosub['std'],label=\"No Substrate\")\n",
    "plt.errorbar(x=chain_A_sub[\"Time(ns)\"],y=chain_A_sub_rolling)\n",
    "plt.errorbar(x=chain_A_nosub[\"Time(ns)\"],y=chain_A_nosub_rolling)\n",
    "plt.legend(loc='upper left')\n",
    "plt.title(\"Chain A Solvent Accessible Surface Area\")\n",
    "plt.xlabel(\"Time (ns)\")\n",
    "plt.ylabel(\"Area ($nm^2$)\")\n",
    "plt.savefig(\"Chain A SASA Sub vs No Sub.png\", dpi=300)"
   ]
  },
  {
   "cell_type": "code",
   "execution_count": null,
   "metadata": {},
   "outputs": [],
   "source": [
    "# Plot results - Chain B\n",
    "plt.errorbar(x=chain_B_sub[\"Time(ns)\"],y=chain_B_sub[\"avg\"],yerr=chain_B_sub['std'],label=\"Substrate\")\n",
    "plt.errorbar(x=chain_B_nosub[\"Time(ns)\"],y=chain_B_nosub[\"avg\"],yerr=chain_B_nosub['std'],label=\"No Substrate\")\n",
    "plt.errorbar(x=chain_B_sub[\"Time(ns)\"],y=chain_B_sub_rolling)\n",
    "plt.errorbar(x=chain_B_nosub[\"Time(ns)\"],y=chain_B_nosub_rolling)\n",
    "plt.legend(loc='upper left')\n",
    "plt.title(\"Chain B Solvent Accessible Surface Area\")\n",
    "plt.xlabel(\"Time (ns)\")\n",
    "plt.ylabel(\"Area ($nm^2$)\")\n",
    "plt.savefig(\"Chain B SASA Sub vs No Sub.png\", dpi=300)"
   ]
  }
 ],
 "metadata": {
  "kernelspec": {
   "display_name": "Python 3 (ipykernel)",
   "language": "python",
   "name": "python3"
  },
  "language_info": {
   "codemirror_mode": {
    "name": "ipython",
    "version": 3
   },
   "file_extension": ".py",
   "mimetype": "text/x-python",
   "name": "python",
   "nbconvert_exporter": "python",
   "pygments_lexer": "ipython3",
   "version": "3.10.9"
  }
 },
 "nbformat": 4,
 "nbformat_minor": 4
}
